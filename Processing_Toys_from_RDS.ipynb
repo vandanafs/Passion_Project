{
 "cells": [
  {
   "cell_type": "markdown",
   "id": "eeeef8ec",
   "metadata": {},
   "source": [
    "# Connect to RDS"
   ]
  },
  {
   "cell_type": "code",
   "execution_count": 1,
   "id": "de0ccb54",
   "metadata": {},
   "outputs": [
    {
     "name": "stdout",
     "output_type": "stream",
     "text": [
      "\u001b[33mDEPRECATION: Configuring installation scheme with distutils config files is deprecated and will no longer work in the near future. If you are using a Homebrew or Linuxbrew Python, please see discussion at https://github.com/Homebrew/homebrew-core/issues/76621\u001b[0m\u001b[33m\n",
      "\u001b[0mRequirement already satisfied: pymysql==0.9.3 in /usr/local/lib/python3.9/site-packages (0.9.3)\n",
      "\u001b[33mDEPRECATION: Configuring installation scheme with distutils config files is deprecated and will no longer work in the near future. If you are using a Homebrew or Linuxbrew Python, please see discussion at https://github.com/Homebrew/homebrew-core/issues/76621\u001b[0m\u001b[33m\n",
      "\u001b[0m"
     ]
    }
   ],
   "source": [
    "!pip3 install pymysql==0.9.3"
   ]
  },
  {
   "cell_type": "code",
   "execution_count": 51,
   "id": "8186e413",
   "metadata": {},
   "outputs": [],
   "source": [
    "import pymysql\n",
    "import boto3\n",
    "import pandas as pd\n",
    "import numpy as np\n",
    "import s3fs\n",
    "import locale\n",
    "import seaborn as sns\n",
    "import matplotlib.pyplot as plt"
   ]
  },
  {
   "cell_type": "code",
   "execution_count": 52,
   "id": "de2bd4a6",
   "metadata": {},
   "outputs": [
    {
     "name": "stdout",
     "output_type": "stream",
     "text": [
      "<pymysql.cursors.Cursor object at 0x126cc32e0>\n"
     ]
    }
   ],
   "source": [
    "connection = pymysql.connect( 'database-1.cbrnhoat32p7.us-east-1.rds.amazonaws.com', 'myuser', 'myPass05')\n",
    "cursor = connection.cursor()\n",
    "print(cursor)"
   ]
  },
  {
   "cell_type": "code",
   "execution_count": 53,
   "id": "c23ea095",
   "metadata": {},
   "outputs": [
    {
     "data": {
      "text/plain": [
       "1"
      ]
     },
     "execution_count": 53,
     "metadata": {},
     "output_type": "execute_result"
    }
   ],
   "source": [
    "cursor.execute(\"select version()\")"
   ]
  },
  {
   "cell_type": "code",
   "execution_count": 54,
   "id": "ca48f87d",
   "metadata": {},
   "outputs": [],
   "source": [
    "data = cursor.fetchone()"
   ]
  },
  {
   "cell_type": "code",
   "execution_count": 55,
   "id": "37fcce8c",
   "metadata": {},
   "outputs": [
    {
     "data": {
      "text/plain": [
       "('8.0.28',)"
      ]
     },
     "execution_count": 55,
     "metadata": {},
     "output_type": "execute_result"
    }
   ],
   "source": [
    "data"
   ]
  },
  {
   "cell_type": "code",
   "execution_count": 56,
   "id": "dd97beb9",
   "metadata": {},
   "outputs": [],
   "source": [
    "sql = '''select database collections'''\n"
   ]
  },
  {
   "cell_type": "code",
   "execution_count": 57,
   "id": "85e481c0",
   "metadata": {},
   "outputs": [],
   "source": [
    "cursor.connection.commit()"
   ]
  },
  {
   "cell_type": "code",
   "execution_count": 58,
   "id": "350a80c9",
   "metadata": {},
   "outputs": [
    {
     "data": {
      "text/plain": [
       "0"
      ]
     },
     "execution_count": 58,
     "metadata": {},
     "output_type": "execute_result"
    }
   ],
   "source": [
    "sql = '''use collections''' \n",
    "cursor.execute(sql)"
   ]
  },
  {
   "cell_type": "code",
   "execution_count": 59,
   "id": "76a08855",
   "metadata": {},
   "outputs": [
    {
     "data": {
      "text/plain": [
       "1"
      ]
     },
     "execution_count": 59,
     "metadata": {},
     "output_type": "execute_result"
    }
   ],
   "source": [
    "#show the tables in RDs\n",
    "sql = '''\n",
    "show tables\n",
    "'''\n",
    "cursor.execute(sql)\n"
   ]
  },
  {
   "cell_type": "code",
   "execution_count": 60,
   "id": "2a176c5f",
   "metadata": {},
   "outputs": [
    {
     "data": {
      "text/plain": [
       "(('items',),)"
      ]
     },
     "execution_count": 60,
     "metadata": {},
     "output_type": "execute_result"
    }
   ],
   "source": [
    "cursor.fetchall()"
   ]
  },
  {
   "cell_type": "code",
   "execution_count": 61,
   "id": "97724b32",
   "metadata": {},
   "outputs": [
    {
     "name": "stderr",
     "output_type": "stream",
     "text": [
      "/usr/local/lib/python3.9/site-packages/pandas/io/sql.py:761: UserWarning: pandas only support SQLAlchemy connectable(engine/connection) ordatabase string URI or sqlite3 DBAPI2 connectionother DBAPI2 objects are not tested, please consider using SQLAlchemy\n",
      "  warnings.warn(\n"
     ]
    },
    {
     "data": {
      "text/html": [
       "<div>\n",
       "<style scoped>\n",
       "    .dataframe tbody tr th:only-of-type {\n",
       "        vertical-align: middle;\n",
       "    }\n",
       "\n",
       "    .dataframe tbody tr th {\n",
       "        vertical-align: top;\n",
       "    }\n",
       "\n",
       "    .dataframe thead th {\n",
       "        text-align: right;\n",
       "    }\n",
       "</style>\n",
       "<table border=\"1\" class=\"dataframe\">\n",
       "  <thead>\n",
       "    <tr style=\"text-align: right;\">\n",
       "      <th></th>\n",
       "      <th>Title</th>\n",
       "      <th>Image</th>\n",
       "      <th>Rating</th>\n",
       "      <th>ProdLink</th>\n",
       "      <th>TotalReviews</th>\n",
       "      <th>Price</th>\n",
       "      <th>OrgPrice</th>\n",
       "      <th>CouponsDesc</th>\n",
       "      <th>CouponsSummery</th>\n",
       "      <th>CouponPrice</th>\n",
       "    </tr>\n",
       "  </thead>\n",
       "  <tbody>\n",
       "    <tr>\n",
       "      <th>0</th>\n",
       "      <td>Cats vs Pickles - Limited Edition Holiday 12pk...</td>\n",
       "      <td>https://m.media-amazon.com/images/I/51n8ENJFUW...</td>\n",
       "      <td>4.7 out of 5 stars</td>\n",
       "      <td>https://www.amazon.com/gp/slredirect/picassoRe...</td>\n",
       "      <td>282.0</td>\n",
       "      <td>54.99</td>\n",
       "      <td>59.99</td>\n",
       "      <td>None</td>\n",
       "      <td>None</td>\n",
       "      <td>54.990</td>\n",
       "    </tr>\n",
       "    <tr>\n",
       "      <th>1</th>\n",
       "      <td>Osmo - Super Studio Disney Frozen 2 - Ages 5-1...</td>\n",
       "      <td>https://m.media-amazon.com/images/I/91SJQup1fq...</td>\n",
       "      <td>4.7 out of 5 stars</td>\n",
       "      <td>https://www.amazon.com/gp/slredirect/picassoRe...</td>\n",
       "      <td>4333.0</td>\n",
       "      <td>29.99</td>\n",
       "      <td>29.99</td>\n",
       "      <td>None</td>\n",
       "      <td>None</td>\n",
       "      <td>29.990</td>\n",
       "    </tr>\n",
       "    <tr>\n",
       "      <th>2</th>\n",
       "      <td>Pop it Pink Ombre Cupcake Fidget Toy Girls and...</td>\n",
       "      <td>https://m.media-amazon.com/images/I/81G2b5S-wQ...</td>\n",
       "      <td>5.0 out of 5 stars</td>\n",
       "      <td>https://www.amazon.com/gp/slredirect/picassoRe...</td>\n",
       "      <td>1.0</td>\n",
       "      <td>7.99</td>\n",
       "      <td>7.99</td>\n",
       "      <td>None</td>\n",
       "      <td>None</td>\n",
       "      <td>7.990</td>\n",
       "    </tr>\n",
       "    <tr>\n",
       "      <th>3</th>\n",
       "      <td>Jasonwell Splash Pad Sprinkler for Kids 68\" Sp...</td>\n",
       "      <td>https://m.media-amazon.com/images/I/81s0fdVXUu...</td>\n",
       "      <td>4.4 out of 5 stars</td>\n",
       "      <td>https://www.amazon.com/Jasonwell-Sprinkle-Spri...</td>\n",
       "      <td>11005.0</td>\n",
       "      <td>19.99</td>\n",
       "      <td>38.99</td>\n",
       "      <td>10% coupon applied at checkoutSave 10%  with c...</td>\n",
       "      <td>Save 10%</td>\n",
       "      <td>17.991</td>\n",
       "    </tr>\n",
       "    <tr>\n",
       "      <th>4</th>\n",
       "      <td>Magnetic Tiles Toys for 3 4 5 6 7 8+ Year Old ...</td>\n",
       "      <td>https://m.media-amazon.com/images/I/71DQtErS2T...</td>\n",
       "      <td>4.6 out of 5 stars</td>\n",
       "      <td>https://www.amazon.com/Magnetic-Building-Creat...</td>\n",
       "      <td>1991.0</td>\n",
       "      <td>25.97</td>\n",
       "      <td>35.99</td>\n",
       "      <td>20% coupon applied at checkoutSave 20%  with c...</td>\n",
       "      <td>Save 20%</td>\n",
       "      <td>20.776</td>\n",
       "    </tr>\n",
       "    <tr>\n",
       "      <th>...</th>\n",
       "      <td>...</td>\n",
       "      <td>...</td>\n",
       "      <td>...</td>\n",
       "      <td>...</td>\n",
       "      <td>...</td>\n",
       "      <td>...</td>\n",
       "      <td>...</td>\n",
       "      <td>...</td>\n",
       "      <td>...</td>\n",
       "      <td>...</td>\n",
       "    </tr>\n",
       "    <tr>\n",
       "      <th>142</th>\n",
       "      <td>ECTY Unicorn Gifts Lamps Night Lights for Kids...</td>\n",
       "      <td>https://m.media-amazon.com/images/I/81gn4sWprG...</td>\n",
       "      <td>4.4 out of 5 stars</td>\n",
       "      <td>https://www.amazon.com/LONGXU-Unicorn-Changing...</td>\n",
       "      <td>2089.0</td>\n",
       "      <td>15.99</td>\n",
       "      <td>26.99</td>\n",
       "      <td>Lowest price in 30 days</td>\n",
       "      <td>None</td>\n",
       "      <td>15.990</td>\n",
       "    </tr>\n",
       "    <tr>\n",
       "      <th>143</th>\n",
       "      <td>The Original Slinky Walking Spring Toy, Metal ...</td>\n",
       "      <td>https://m.media-amazon.com/images/I/91jLIfnfDn...</td>\n",
       "      <td>4.5 out of 5 stars</td>\n",
       "      <td>https://www.amazon.com/Slinky-60100-Original-B...</td>\n",
       "      <td>23933.0</td>\n",
       "      <td>3.50</td>\n",
       "      <td>3.50</td>\n",
       "      <td>50% off gift wrap service: code GIFTWRAP50</td>\n",
       "      <td>None</td>\n",
       "      <td>3.500</td>\n",
       "    </tr>\n",
       "    <tr>\n",
       "      <th>144</th>\n",
       "      <td>LEGO Speed Champions Aston Martin Valkyrie AMR...</td>\n",
       "      <td>https://m.media-amazon.com/images/I/818L58F+ei...</td>\n",
       "      <td>4.8 out of 5 stars</td>\n",
       "      <td>https://www.amazon.com/gp/slredirect/picassoRe...</td>\n",
       "      <td>65.0</td>\n",
       "      <td>39.97</td>\n",
       "      <td>39.97</td>\n",
       "      <td>None</td>\n",
       "      <td>None</td>\n",
       "      <td>39.970</td>\n",
       "    </tr>\n",
       "    <tr>\n",
       "      <th>145</th>\n",
       "      <td>Dinosaur Toy Truck for Kids 3-7 with Flash Lig...</td>\n",
       "      <td>https://m.media-amazon.com/images/I/81aDx6A2XT...</td>\n",
       "      <td>4.5 out of 5 stars</td>\n",
       "      <td>https://www.amazon.com/gp/slredirect/picassoRe...</td>\n",
       "      <td>78.0</td>\n",
       "      <td>24.99</td>\n",
       "      <td>24.99</td>\n",
       "      <td>None</td>\n",
       "      <td>None</td>\n",
       "      <td>24.990</td>\n",
       "    </tr>\n",
       "    <tr>\n",
       "      <th>146</th>\n",
       "      <td>Paw Patrol Marshall - Robotic Build-A-Bot Paw ...</td>\n",
       "      <td>https://m.media-amazon.com/images/I/718M5NdTF7...</td>\n",
       "      <td>4.1 out of 5 stars</td>\n",
       "      <td>https://www.amazon.com/gp/slredirect/picassoRe...</td>\n",
       "      <td>2163.0</td>\n",
       "      <td>34.99</td>\n",
       "      <td>34.99</td>\n",
       "      <td>None</td>\n",
       "      <td>None</td>\n",
       "      <td>34.990</td>\n",
       "    </tr>\n",
       "  </tbody>\n",
       "</table>\n",
       "<p>147 rows × 10 columns</p>\n",
       "</div>"
      ],
      "text/plain": [
       "                                                 Title  \\\n",
       "0    Cats vs Pickles - Limited Edition Holiday 12pk...   \n",
       "1    Osmo - Super Studio Disney Frozen 2 - Ages 5-1...   \n",
       "2    Pop it Pink Ombre Cupcake Fidget Toy Girls and...   \n",
       "3    Jasonwell Splash Pad Sprinkler for Kids 68\" Sp...   \n",
       "4    Magnetic Tiles Toys for 3 4 5 6 7 8+ Year Old ...   \n",
       "..                                                 ...   \n",
       "142  ECTY Unicorn Gifts Lamps Night Lights for Kids...   \n",
       "143  The Original Slinky Walking Spring Toy, Metal ...   \n",
       "144  LEGO Speed Champions Aston Martin Valkyrie AMR...   \n",
       "145  Dinosaur Toy Truck for Kids 3-7 with Flash Lig...   \n",
       "146  Paw Patrol Marshall - Robotic Build-A-Bot Paw ...   \n",
       "\n",
       "                                                 Image              Rating  \\\n",
       "0    https://m.media-amazon.com/images/I/51n8ENJFUW...  4.7 out of 5 stars   \n",
       "1    https://m.media-amazon.com/images/I/91SJQup1fq...  4.7 out of 5 stars   \n",
       "2    https://m.media-amazon.com/images/I/81G2b5S-wQ...  5.0 out of 5 stars   \n",
       "3    https://m.media-amazon.com/images/I/81s0fdVXUu...  4.4 out of 5 stars   \n",
       "4    https://m.media-amazon.com/images/I/71DQtErS2T...  4.6 out of 5 stars   \n",
       "..                                                 ...                 ...   \n",
       "142  https://m.media-amazon.com/images/I/81gn4sWprG...  4.4 out of 5 stars   \n",
       "143  https://m.media-amazon.com/images/I/91jLIfnfDn...  4.5 out of 5 stars   \n",
       "144  https://m.media-amazon.com/images/I/818L58F+ei...  4.8 out of 5 stars   \n",
       "145  https://m.media-amazon.com/images/I/81aDx6A2XT...  4.5 out of 5 stars   \n",
       "146  https://m.media-amazon.com/images/I/718M5NdTF7...  4.1 out of 5 stars   \n",
       "\n",
       "                                              ProdLink  TotalReviews  Price  \\\n",
       "0    https://www.amazon.com/gp/slredirect/picassoRe...         282.0  54.99   \n",
       "1    https://www.amazon.com/gp/slredirect/picassoRe...        4333.0  29.99   \n",
       "2    https://www.amazon.com/gp/slredirect/picassoRe...           1.0   7.99   \n",
       "3    https://www.amazon.com/Jasonwell-Sprinkle-Spri...       11005.0  19.99   \n",
       "4    https://www.amazon.com/Magnetic-Building-Creat...        1991.0  25.97   \n",
       "..                                                 ...           ...    ...   \n",
       "142  https://www.amazon.com/LONGXU-Unicorn-Changing...        2089.0  15.99   \n",
       "143  https://www.amazon.com/Slinky-60100-Original-B...       23933.0   3.50   \n",
       "144  https://www.amazon.com/gp/slredirect/picassoRe...          65.0  39.97   \n",
       "145  https://www.amazon.com/gp/slredirect/picassoRe...          78.0  24.99   \n",
       "146  https://www.amazon.com/gp/slredirect/picassoRe...        2163.0  34.99   \n",
       "\n",
       "     OrgPrice                                        CouponsDesc  \\\n",
       "0       59.99                                               None   \n",
       "1       29.99                                               None   \n",
       "2        7.99                                               None   \n",
       "3       38.99  10% coupon applied at checkoutSave 10%  with c...   \n",
       "4       35.99  20% coupon applied at checkoutSave 20%  with c...   \n",
       "..        ...                                                ...   \n",
       "142     26.99                            Lowest price in 30 days   \n",
       "143      3.50         50% off gift wrap service: code GIFTWRAP50   \n",
       "144     39.97                                               None   \n",
       "145     24.99                                               None   \n",
       "146     34.99                                               None   \n",
       "\n",
       "    CouponsSummery  CouponPrice  \n",
       "0             None       54.990  \n",
       "1             None       29.990  \n",
       "2             None        7.990  \n",
       "3         Save 10%       17.991  \n",
       "4         Save 20%       20.776  \n",
       "..             ...          ...  \n",
       "142           None       15.990  \n",
       "143           None        3.500  \n",
       "144           None       39.970  \n",
       "145           None       24.990  \n",
       "146           None       34.990  \n",
       "\n",
       "[147 rows x 10 columns]"
      ]
     },
     "execution_count": 61,
     "metadata": {},
     "output_type": "execute_result"
    }
   ],
   "source": [
    "sql = '''select * from collections.items'''\n",
    "cursor.execute(sql)\n",
    "df = pd.read_sql_query(sql, connection)\n",
    "df"
   ]
  },
  {
   "cell_type": "code",
   "execution_count": 62,
   "id": "fd4f4f7d",
   "metadata": {},
   "outputs": [
    {
     "data": {
      "text/html": [
       "<div>\n",
       "<style scoped>\n",
       "    .dataframe tbody tr th:only-of-type {\n",
       "        vertical-align: middle;\n",
       "    }\n",
       "\n",
       "    .dataframe tbody tr th {\n",
       "        vertical-align: top;\n",
       "    }\n",
       "\n",
       "    .dataframe thead th {\n",
       "        text-align: right;\n",
       "    }\n",
       "</style>\n",
       "<table border=\"1\" class=\"dataframe\">\n",
       "  <thead>\n",
       "    <tr style=\"text-align: right;\">\n",
       "      <th></th>\n",
       "      <th>Title</th>\n",
       "      <th>Image</th>\n",
       "      <th>Rating</th>\n",
       "      <th>ProdLink</th>\n",
       "      <th>TotalReviews</th>\n",
       "      <th>Price</th>\n",
       "      <th>OrgPrice</th>\n",
       "      <th>CouponsDesc</th>\n",
       "      <th>CouponsSummery</th>\n",
       "      <th>CouponPrice</th>\n",
       "      <th>PercentReduction</th>\n",
       "    </tr>\n",
       "  </thead>\n",
       "  <tbody>\n",
       "    <tr>\n",
       "      <th>0</th>\n",
       "      <td>Cats vs Pickles - Limited Edition Holiday 12pk...</td>\n",
       "      <td>https://m.media-amazon.com/images/I/51n8ENJFUW...</td>\n",
       "      <td>4.7 out of 5 stars</td>\n",
       "      <td>https://www.amazon.com/gp/slredirect/picassoRe...</td>\n",
       "      <td>282.0</td>\n",
       "      <td>54.99</td>\n",
       "      <td>59.99</td>\n",
       "      <td>None</td>\n",
       "      <td>None</td>\n",
       "      <td>54.990</td>\n",
       "      <td>8.334722</td>\n",
       "    </tr>\n",
       "    <tr>\n",
       "      <th>1</th>\n",
       "      <td>Osmo - Super Studio Disney Frozen 2 - Ages 5-1...</td>\n",
       "      <td>https://m.media-amazon.com/images/I/91SJQup1fq...</td>\n",
       "      <td>4.7 out of 5 stars</td>\n",
       "      <td>https://www.amazon.com/gp/slredirect/picassoRe...</td>\n",
       "      <td>4333.0</td>\n",
       "      <td>29.99</td>\n",
       "      <td>29.99</td>\n",
       "      <td>None</td>\n",
       "      <td>None</td>\n",
       "      <td>29.990</td>\n",
       "      <td>0.000000</td>\n",
       "    </tr>\n",
       "    <tr>\n",
       "      <th>2</th>\n",
       "      <td>Pop it Pink Ombre Cupcake Fidget Toy Girls and...</td>\n",
       "      <td>https://m.media-amazon.com/images/I/81G2b5S-wQ...</td>\n",
       "      <td>5.0 out of 5 stars</td>\n",
       "      <td>https://www.amazon.com/gp/slredirect/picassoRe...</td>\n",
       "      <td>1.0</td>\n",
       "      <td>7.99</td>\n",
       "      <td>7.99</td>\n",
       "      <td>None</td>\n",
       "      <td>None</td>\n",
       "      <td>7.990</td>\n",
       "      <td>0.000000</td>\n",
       "    </tr>\n",
       "    <tr>\n",
       "      <th>3</th>\n",
       "      <td>Jasonwell Splash Pad Sprinkler for Kids 68\" Sp...</td>\n",
       "      <td>https://m.media-amazon.com/images/I/81s0fdVXUu...</td>\n",
       "      <td>4.4 out of 5 stars</td>\n",
       "      <td>https://www.amazon.com/Jasonwell-Sprinkle-Spri...</td>\n",
       "      <td>11005.0</td>\n",
       "      <td>19.99</td>\n",
       "      <td>38.99</td>\n",
       "      <td>10% coupon applied at checkoutSave 10%  with c...</td>\n",
       "      <td>Save 10%</td>\n",
       "      <td>17.991</td>\n",
       "      <td>53.857399</td>\n",
       "    </tr>\n",
       "    <tr>\n",
       "      <th>4</th>\n",
       "      <td>Magnetic Tiles Toys for 3 4 5 6 7 8+ Year Old ...</td>\n",
       "      <td>https://m.media-amazon.com/images/I/71DQtErS2T...</td>\n",
       "      <td>4.6 out of 5 stars</td>\n",
       "      <td>https://www.amazon.com/Magnetic-Building-Creat...</td>\n",
       "      <td>1991.0</td>\n",
       "      <td>25.97</td>\n",
       "      <td>35.99</td>\n",
       "      <td>20% coupon applied at checkoutSave 20%  with c...</td>\n",
       "      <td>Save 20%</td>\n",
       "      <td>20.776</td>\n",
       "      <td>42.272854</td>\n",
       "    </tr>\n",
       "  </tbody>\n",
       "</table>\n",
       "</div>"
      ],
      "text/plain": [
       "                                               Title  \\\n",
       "0  Cats vs Pickles - Limited Edition Holiday 12pk...   \n",
       "1  Osmo - Super Studio Disney Frozen 2 - Ages 5-1...   \n",
       "2  Pop it Pink Ombre Cupcake Fidget Toy Girls and...   \n",
       "3  Jasonwell Splash Pad Sprinkler for Kids 68\" Sp...   \n",
       "4  Magnetic Tiles Toys for 3 4 5 6 7 8+ Year Old ...   \n",
       "\n",
       "                                               Image              Rating  \\\n",
       "0  https://m.media-amazon.com/images/I/51n8ENJFUW...  4.7 out of 5 stars   \n",
       "1  https://m.media-amazon.com/images/I/91SJQup1fq...  4.7 out of 5 stars   \n",
       "2  https://m.media-amazon.com/images/I/81G2b5S-wQ...  5.0 out of 5 stars   \n",
       "3  https://m.media-amazon.com/images/I/81s0fdVXUu...  4.4 out of 5 stars   \n",
       "4  https://m.media-amazon.com/images/I/71DQtErS2T...  4.6 out of 5 stars   \n",
       "\n",
       "                                            ProdLink  TotalReviews  Price  \\\n",
       "0  https://www.amazon.com/gp/slredirect/picassoRe...         282.0  54.99   \n",
       "1  https://www.amazon.com/gp/slredirect/picassoRe...        4333.0  29.99   \n",
       "2  https://www.amazon.com/gp/slredirect/picassoRe...           1.0   7.99   \n",
       "3  https://www.amazon.com/Jasonwell-Sprinkle-Spri...       11005.0  19.99   \n",
       "4  https://www.amazon.com/Magnetic-Building-Creat...        1991.0  25.97   \n",
       "\n",
       "   OrgPrice                                        CouponsDesc CouponsSummery  \\\n",
       "0     59.99                                               None           None   \n",
       "1     29.99                                               None           None   \n",
       "2      7.99                                               None           None   \n",
       "3     38.99  10% coupon applied at checkoutSave 10%  with c...       Save 10%   \n",
       "4     35.99  20% coupon applied at checkoutSave 20%  with c...       Save 20%   \n",
       "\n",
       "   CouponPrice  PercentReduction  \n",
       "0       54.990          8.334722  \n",
       "1       29.990          0.000000  \n",
       "2        7.990          0.000000  \n",
       "3       17.991         53.857399  \n",
       "4       20.776         42.272854  "
      ]
     },
     "execution_count": 62,
     "metadata": {},
     "output_type": "execute_result"
    }
   ],
   "source": [
    "df['PercentReduction'] = df.apply(lambda row: abs(((row.CouponPrice - row.OrgPrice)/row.OrgPrice) * 100), axis=1)\n",
    "df.head()"
   ]
  },
  {
   "cell_type": "code",
   "execution_count": 63,
   "id": "639ec404",
   "metadata": {},
   "outputs": [
    {
     "data": {
      "text/plain": [
       "Index(['Title', 'Image', 'Rating', 'ProdLink', 'TotalReviews', 'Price',\n",
       "       'OrgPrice', 'CouponsDesc', 'CouponsSummery', 'CouponPrice',\n",
       "       'PercentReduction'],\n",
       "      dtype='object')"
      ]
     },
     "execution_count": 63,
     "metadata": {},
     "output_type": "execute_result"
    }
   ],
   "source": [
    "df.columns"
   ]
  },
  {
   "cell_type": "code",
   "execution_count": 64,
   "id": "44bfcc98",
   "metadata": {},
   "outputs": [
    {
     "data": {
      "text/html": [
       "<div>\n",
       "<style scoped>\n",
       "    .dataframe tbody tr th:only-of-type {\n",
       "        vertical-align: middle;\n",
       "    }\n",
       "\n",
       "    .dataframe tbody tr th {\n",
       "        vertical-align: top;\n",
       "    }\n",
       "\n",
       "    .dataframe thead th {\n",
       "        text-align: right;\n",
       "    }\n",
       "</style>\n",
       "<table border=\"1\" class=\"dataframe\">\n",
       "  <thead>\n",
       "    <tr style=\"text-align: right;\">\n",
       "      <th></th>\n",
       "      <th>Title</th>\n",
       "      <th>Image</th>\n",
       "      <th>Rating</th>\n",
       "      <th>ProdLink</th>\n",
       "      <th>TotalReviews</th>\n",
       "      <th>Price</th>\n",
       "      <th>OrgPrice</th>\n",
       "      <th>CouponsDesc</th>\n",
       "      <th>CouponsSummery</th>\n",
       "      <th>CouponPrice</th>\n",
       "      <th>PercentReduction</th>\n",
       "    </tr>\n",
       "  </thead>\n",
       "  <tbody>\n",
       "    <tr>\n",
       "      <th>51</th>\n",
       "      <td>TEMI 8 Channels 2.4G Remote Control Dinosaur T...</td>\n",
       "      <td>https://m.media-amazon.com/images/I/71CfgcPxmT...</td>\n",
       "      <td>4.4 out of 5 stars</td>\n",
       "      <td>https://www.amazon.com/TEMI-Electronic-Educati...</td>\n",
       "      <td>4809.0</td>\n",
       "      <td>39.99</td>\n",
       "      <td>89.90</td>\n",
       "      <td>$6.00 coupon applied at checkoutSave $6.00  wi...</td>\n",
       "      <td>Save $6.00</td>\n",
       "      <td>33.9900</td>\n",
       "      <td>62.191324</td>\n",
       "    </tr>\n",
       "    <tr>\n",
       "      <th>79</th>\n",
       "      <td>Baby Toys 6 to 12 Months Touch &amp; Go Musical Li...</td>\n",
       "      <td>https://m.media-amazon.com/images/I/71QyNYo+-v...</td>\n",
       "      <td>4.5 out of 5 stars</td>\n",
       "      <td>https://www.amazon.com/Dinosaur-Electronic-Cra...</td>\n",
       "      <td>2653.0</td>\n",
       "      <td>18.69</td>\n",
       "      <td>44.99</td>\n",
       "      <td>None</td>\n",
       "      <td>None</td>\n",
       "      <td>18.6900</td>\n",
       "      <td>58.457435</td>\n",
       "    </tr>\n",
       "    <tr>\n",
       "      <th>3</th>\n",
       "      <td>Jasonwell Splash Pad Sprinkler for Kids 68\" Sp...</td>\n",
       "      <td>https://m.media-amazon.com/images/I/81s0fdVXUu...</td>\n",
       "      <td>4.4 out of 5 stars</td>\n",
       "      <td>https://www.amazon.com/Jasonwell-Sprinkle-Spri...</td>\n",
       "      <td>11005.0</td>\n",
       "      <td>19.99</td>\n",
       "      <td>38.99</td>\n",
       "      <td>10% coupon applied at checkoutSave 10%  with c...</td>\n",
       "      <td>Save 10%</td>\n",
       "      <td>17.9910</td>\n",
       "      <td>53.857399</td>\n",
       "    </tr>\n",
       "    <tr>\n",
       "      <th>10</th>\n",
       "      <td>HOLA Baby Toys 6 to 12 Months, Baby Rattles Ac...</td>\n",
       "      <td>https://m.media-amazon.com/images/I/61wtIWS4Ql...</td>\n",
       "      <td>4.8 out of 5 stars</td>\n",
       "      <td>https://www.amazon.com/HOLA-Rattles-Activity-C...</td>\n",
       "      <td>1035.0</td>\n",
       "      <td>14.97</td>\n",
       "      <td>29.99</td>\n",
       "      <td>1 Count (Pack of 1)</td>\n",
       "      <td>Save 5%</td>\n",
       "      <td>14.2215</td>\n",
       "      <td>52.579193</td>\n",
       "    </tr>\n",
       "    <tr>\n",
       "      <th>24</th>\n",
       "      <td>Bravokids Toys for 3-6 Years Old Girls Boys, L...</td>\n",
       "      <td>https://m.media-amazon.com/images/I/61Sz5N89C4...</td>\n",
       "      <td>4.5 out of 5 stars</td>\n",
       "      <td>https://www.amazon.com/Bravokids-Writing-Elect...</td>\n",
       "      <td>19023.0</td>\n",
       "      <td>22.99</td>\n",
       "      <td>29.99</td>\n",
       "      <td>37% coupon applied at checkoutSave 37%  with c...</td>\n",
       "      <td>Save 37%</td>\n",
       "      <td>14.4837</td>\n",
       "      <td>51.704902</td>\n",
       "    </tr>\n",
       "    <tr>\n",
       "      <th>47</th>\n",
       "      <td>LUKAT Splash Pad for Kids, Inflatable Sprinkle...</td>\n",
       "      <td>https://m.media-amazon.com/images/I/81aaiIEuoC...</td>\n",
       "      <td>4.2 out of 5 stars</td>\n",
       "      <td>https://www.amazon.com/gp/slredirect/picassoRe...</td>\n",
       "      <td>118.0</td>\n",
       "      <td>26.69</td>\n",
       "      <td>32.99</td>\n",
       "      <td>40% coupon applied at checkoutSave 40%  with c...</td>\n",
       "      <td>Save 40%</td>\n",
       "      <td>16.0140</td>\n",
       "      <td>51.458018</td>\n",
       "    </tr>\n",
       "    <tr>\n",
       "      <th>97</th>\n",
       "      <td>RenFox Musical Piano Mat, Toddlers Music Floor...</td>\n",
       "      <td>https://m.media-amazon.com/images/I/71iUFRjFre...</td>\n",
       "      <td>4.4 out of 5 stars</td>\n",
       "      <td>https://www.amazon.com/RenFox-Electronic-Diffe...</td>\n",
       "      <td>3147.0</td>\n",
       "      <td>16.99</td>\n",
       "      <td>25.99</td>\n",
       "      <td>$4.00 coupon applied at checkoutSave $4.00  wi...</td>\n",
       "      <td>Save $4.00</td>\n",
       "      <td>12.9900</td>\n",
       "      <td>50.019238</td>\n",
       "    </tr>\n",
       "    <tr>\n",
       "      <th>124</th>\n",
       "      <td>RenFox Musical Piano Mat, Toddlers Music Floor...</td>\n",
       "      <td>https://m.media-amazon.com/images/I/71iUFRjFre...</td>\n",
       "      <td>4.4 out of 5 stars</td>\n",
       "      <td>https://www.amazon.com/RenFox-Electronic-Diffe...</td>\n",
       "      <td>3147.0</td>\n",
       "      <td>16.99</td>\n",
       "      <td>25.99</td>\n",
       "      <td>$4.00 coupon applied at checkoutSave $4.00  wi...</td>\n",
       "      <td>Save $4.00</td>\n",
       "      <td>12.9900</td>\n",
       "      <td>50.019238</td>\n",
       "    </tr>\n",
       "  </tbody>\n",
       "</table>\n",
       "</div>"
      ],
      "text/plain": [
       "                                                 Title  \\\n",
       "51   TEMI 8 Channels 2.4G Remote Control Dinosaur T...   \n",
       "79   Baby Toys 6 to 12 Months Touch & Go Musical Li...   \n",
       "3    Jasonwell Splash Pad Sprinkler for Kids 68\" Sp...   \n",
       "10   HOLA Baby Toys 6 to 12 Months, Baby Rattles Ac...   \n",
       "24   Bravokids Toys for 3-6 Years Old Girls Boys, L...   \n",
       "47   LUKAT Splash Pad for Kids, Inflatable Sprinkle...   \n",
       "97   RenFox Musical Piano Mat, Toddlers Music Floor...   \n",
       "124  RenFox Musical Piano Mat, Toddlers Music Floor...   \n",
       "\n",
       "                                                 Image              Rating  \\\n",
       "51   https://m.media-amazon.com/images/I/71CfgcPxmT...  4.4 out of 5 stars   \n",
       "79   https://m.media-amazon.com/images/I/71QyNYo+-v...  4.5 out of 5 stars   \n",
       "3    https://m.media-amazon.com/images/I/81s0fdVXUu...  4.4 out of 5 stars   \n",
       "10   https://m.media-amazon.com/images/I/61wtIWS4Ql...  4.8 out of 5 stars   \n",
       "24   https://m.media-amazon.com/images/I/61Sz5N89C4...  4.5 out of 5 stars   \n",
       "47   https://m.media-amazon.com/images/I/81aaiIEuoC...  4.2 out of 5 stars   \n",
       "97   https://m.media-amazon.com/images/I/71iUFRjFre...  4.4 out of 5 stars   \n",
       "124  https://m.media-amazon.com/images/I/71iUFRjFre...  4.4 out of 5 stars   \n",
       "\n",
       "                                              ProdLink  TotalReviews  Price  \\\n",
       "51   https://www.amazon.com/TEMI-Electronic-Educati...        4809.0  39.99   \n",
       "79   https://www.amazon.com/Dinosaur-Electronic-Cra...        2653.0  18.69   \n",
       "3    https://www.amazon.com/Jasonwell-Sprinkle-Spri...       11005.0  19.99   \n",
       "10   https://www.amazon.com/HOLA-Rattles-Activity-C...        1035.0  14.97   \n",
       "24   https://www.amazon.com/Bravokids-Writing-Elect...       19023.0  22.99   \n",
       "47   https://www.amazon.com/gp/slredirect/picassoRe...         118.0  26.69   \n",
       "97   https://www.amazon.com/RenFox-Electronic-Diffe...        3147.0  16.99   \n",
       "124  https://www.amazon.com/RenFox-Electronic-Diffe...        3147.0  16.99   \n",
       "\n",
       "     OrgPrice                                        CouponsDesc  \\\n",
       "51      89.90  $6.00 coupon applied at checkoutSave $6.00  wi...   \n",
       "79      44.99                                               None   \n",
       "3       38.99  10% coupon applied at checkoutSave 10%  with c...   \n",
       "10      29.99                                1 Count (Pack of 1)   \n",
       "24      29.99  37% coupon applied at checkoutSave 37%  with c...   \n",
       "47      32.99  40% coupon applied at checkoutSave 40%  with c...   \n",
       "97      25.99  $4.00 coupon applied at checkoutSave $4.00  wi...   \n",
       "124     25.99  $4.00 coupon applied at checkoutSave $4.00  wi...   \n",
       "\n",
       "    CouponsSummery  CouponPrice  PercentReduction  \n",
       "51      Save $6.00      33.9900         62.191324  \n",
       "79            None      18.6900         58.457435  \n",
       "3         Save 10%      17.9910         53.857399  \n",
       "10         Save 5%      14.2215         52.579193  \n",
       "24        Save 37%      14.4837         51.704902  \n",
       "47        Save 40%      16.0140         51.458018  \n",
       "97      Save $4.00      12.9900         50.019238  \n",
       "124     Save $4.00      12.9900         50.019238  "
      ]
     },
     "execution_count": 64,
     "metadata": {},
     "output_type": "execute_result"
    }
   ],
   "source": [
    "# display top 10 deals in toys\n",
    "df=df.sort_values(by='PercentReduction', ascending=False)\n",
    "df.head(8)  "
   ]
  },
  {
   "cell_type": "code",
   "execution_count": 65,
   "id": "c7fcc2e0",
   "metadata": {},
   "outputs": [],
   "source": [
    "#(100- (CouponPrice/OrgPrice*100)) percentage reduction\n"
   ]
  },
  {
   "cell_type": "code",
   "execution_count": 66,
   "id": "cce874c4",
   "metadata": {},
   "outputs": [
    {
     "data": {
      "text/plain": [
       "(147, 11)"
      ]
     },
     "execution_count": 66,
     "metadata": {},
     "output_type": "execute_result"
    }
   ],
   "source": [
    "df.shape"
   ]
  },
  {
   "cell_type": "code",
   "execution_count": null,
   "id": "640b693e",
   "metadata": {},
   "outputs": [],
   "source": []
  },
  {
   "cell_type": "code",
   "execution_count": 69,
   "id": "fbddfa2d",
   "metadata": {},
   "outputs": [
    {
     "data": {
      "text/html": [
       "<div>\n",
       "<style scoped>\n",
       "    .dataframe tbody tr th:only-of-type {\n",
       "        vertical-align: middle;\n",
       "    }\n",
       "\n",
       "    .dataframe tbody tr th {\n",
       "        vertical-align: top;\n",
       "    }\n",
       "\n",
       "    .dataframe thead th {\n",
       "        text-align: right;\n",
       "    }\n",
       "</style>\n",
       "<table border=\"1\" class=\"dataframe\">\n",
       "  <thead>\n",
       "    <tr style=\"text-align: right;\">\n",
       "      <th></th>\n",
       "      <th>Title</th>\n",
       "      <th>ProdLink</th>\n",
       "      <th>TotalReviews</th>\n",
       "      <th>CouponPrice</th>\n",
       "      <th>PercentReduction</th>\n",
       "    </tr>\n",
       "  </thead>\n",
       "  <tbody>\n",
       "    <tr>\n",
       "      <th>51</th>\n",
       "      <td>TEMI 8 Channels 2.4G Remote Control Dinosaur T...</td>\n",
       "      <td>https://www.amazon.com/TEMI-Electronic-Educati...</td>\n",
       "      <td>4809.0</td>\n",
       "      <td>33.9900</td>\n",
       "      <td>62.191324</td>\n",
       "    </tr>\n",
       "    <tr>\n",
       "      <th>79</th>\n",
       "      <td>Baby Toys 6 to 12 Months Touch &amp; Go Musical Li...</td>\n",
       "      <td>https://www.amazon.com/Dinosaur-Electronic-Cra...</td>\n",
       "      <td>2653.0</td>\n",
       "      <td>18.6900</td>\n",
       "      <td>58.457435</td>\n",
       "    </tr>\n",
       "    <tr>\n",
       "      <th>3</th>\n",
       "      <td>Jasonwell Splash Pad Sprinkler for Kids 68\" Sp...</td>\n",
       "      <td>https://www.amazon.com/Jasonwell-Sprinkle-Spri...</td>\n",
       "      <td>11005.0</td>\n",
       "      <td>17.9910</td>\n",
       "      <td>53.857399</td>\n",
       "    </tr>\n",
       "    <tr>\n",
       "      <th>10</th>\n",
       "      <td>HOLA Baby Toys 6 to 12 Months, Baby Rattles Ac...</td>\n",
       "      <td>https://www.amazon.com/HOLA-Rattles-Activity-C...</td>\n",
       "      <td>1035.0</td>\n",
       "      <td>14.2215</td>\n",
       "      <td>52.579193</td>\n",
       "    </tr>\n",
       "    <tr>\n",
       "      <th>24</th>\n",
       "      <td>Bravokids Toys for 3-6 Years Old Girls Boys, L...</td>\n",
       "      <td>https://www.amazon.com/Bravokids-Writing-Elect...</td>\n",
       "      <td>19023.0</td>\n",
       "      <td>14.4837</td>\n",
       "      <td>51.704902</td>\n",
       "    </tr>\n",
       "    <tr>\n",
       "      <th>47</th>\n",
       "      <td>LUKAT Splash Pad for Kids, Inflatable Sprinkle...</td>\n",
       "      <td>https://www.amazon.com/gp/slredirect/picassoRe...</td>\n",
       "      <td>118.0</td>\n",
       "      <td>16.0140</td>\n",
       "      <td>51.458018</td>\n",
       "    </tr>\n",
       "    <tr>\n",
       "      <th>97</th>\n",
       "      <td>RenFox Musical Piano Mat, Toddlers Music Floor...</td>\n",
       "      <td>https://www.amazon.com/RenFox-Electronic-Diffe...</td>\n",
       "      <td>3147.0</td>\n",
       "      <td>12.9900</td>\n",
       "      <td>50.019238</td>\n",
       "    </tr>\n",
       "    <tr>\n",
       "      <th>124</th>\n",
       "      <td>RenFox Musical Piano Mat, Toddlers Music Floor...</td>\n",
       "      <td>https://www.amazon.com/RenFox-Electronic-Diffe...</td>\n",
       "      <td>3147.0</td>\n",
       "      <td>12.9900</td>\n",
       "      <td>50.019238</td>\n",
       "    </tr>\n",
       "    <tr>\n",
       "      <th>6</th>\n",
       "      <td>Toys for 3-8 Year Old Girls,Timer Rotation Sta...</td>\n",
       "      <td>https://www.amazon.com/Projection-Christmas-Bi...</td>\n",
       "      <td>3388.0</td>\n",
       "      <td>20.7840</td>\n",
       "      <td>48.027007</td>\n",
       "    </tr>\n",
       "    <tr>\n",
       "      <th>82</th>\n",
       "      <td>NARRIO Interactive Alphabet Wall Chart for Kid...</td>\n",
       "      <td>https://www.amazon.com/NARRIO-Educational-Inte...</td>\n",
       "      <td>1532.0</td>\n",
       "      <td>13.5920</td>\n",
       "      <td>47.702963</td>\n",
       "    </tr>\n",
       "  </tbody>\n",
       "</table>\n",
       "</div>"
      ],
      "text/plain": [
       "                                                 Title  \\\n",
       "51   TEMI 8 Channels 2.4G Remote Control Dinosaur T...   \n",
       "79   Baby Toys 6 to 12 Months Touch & Go Musical Li...   \n",
       "3    Jasonwell Splash Pad Sprinkler for Kids 68\" Sp...   \n",
       "10   HOLA Baby Toys 6 to 12 Months, Baby Rattles Ac...   \n",
       "24   Bravokids Toys for 3-6 Years Old Girls Boys, L...   \n",
       "47   LUKAT Splash Pad for Kids, Inflatable Sprinkle...   \n",
       "97   RenFox Musical Piano Mat, Toddlers Music Floor...   \n",
       "124  RenFox Musical Piano Mat, Toddlers Music Floor...   \n",
       "6    Toys for 3-8 Year Old Girls,Timer Rotation Sta...   \n",
       "82   NARRIO Interactive Alphabet Wall Chart for Kid...   \n",
       "\n",
       "                                              ProdLink  TotalReviews  \\\n",
       "51   https://www.amazon.com/TEMI-Electronic-Educati...        4809.0   \n",
       "79   https://www.amazon.com/Dinosaur-Electronic-Cra...        2653.0   \n",
       "3    https://www.amazon.com/Jasonwell-Sprinkle-Spri...       11005.0   \n",
       "10   https://www.amazon.com/HOLA-Rattles-Activity-C...        1035.0   \n",
       "24   https://www.amazon.com/Bravokids-Writing-Elect...       19023.0   \n",
       "47   https://www.amazon.com/gp/slredirect/picassoRe...         118.0   \n",
       "97   https://www.amazon.com/RenFox-Electronic-Diffe...        3147.0   \n",
       "124  https://www.amazon.com/RenFox-Electronic-Diffe...        3147.0   \n",
       "6    https://www.amazon.com/Projection-Christmas-Bi...        3388.0   \n",
       "82   https://www.amazon.com/NARRIO-Educational-Inte...        1532.0   \n",
       "\n",
       "     CouponPrice  PercentReduction  \n",
       "51       33.9900         62.191324  \n",
       "79       18.6900         58.457435  \n",
       "3        17.9910         53.857399  \n",
       "10       14.2215         52.579193  \n",
       "24       14.4837         51.704902  \n",
       "47       16.0140         51.458018  \n",
       "97       12.9900         50.019238  \n",
       "124      12.9900         50.019238  \n",
       "6        20.7840         48.027007  \n",
       "82       13.5920         47.702963  "
      ]
     },
     "execution_count": 69,
     "metadata": {},
     "output_type": "execute_result"
    }
   ],
   "source": [
    "# Title, link, price\n",
    "from IPython.display import HTML\n",
    "df1=df[['Title','ProdLink','TotalReviews','CouponPrice','PercentReduction']]\n",
    "df1.sort_values(by='PercentReduction', ascending=False)\n",
    "df1.head(10)"
   ]
  },
  {
   "cell_type": "code",
   "execution_count": 70,
   "id": "460e4533",
   "metadata": {},
   "outputs": [
    {
     "data": {
      "text/html": [
       "<table border=\"1\" class=\"dataframe\">\n",
       "  <thead>\n",
       "    <tr style=\"text-align: right;\">\n",
       "      <th></th>\n",
       "      <th>Title</th>\n",
       "      <th>ProdLink</th>\n",
       "      <th>TotalReviews</th>\n",
       "      <th>CouponPrice</th>\n",
       "      <th>PercentReduction</th>\n",
       "    </tr>\n",
       "  </thead>\n",
       "  <tbody>\n",
       "    <tr>\n",
       "      <th>51</th>\n",
       "      <td>TEMI 8 Channels 2.4G Remote Control Dinosaur Toys for Kids 3-5, Boys Girls 4-7 Years, Electric RC Toys Walking T- Rex with Lights and Sounds Powered by Rechargeable Battery, 360° Rotation Stunt</td>\n",
       "      <td><a href=\"https://www.amazon.com/TEMI-Electronic-Educational-Tyrannosaurus-Rechargeable/dp/B07DGTSQ21/ref=sr_1_46?crid=23X2CHTW4649I&keywords=toys&qid=1651201775&refinements=p_72%3A1248963011&rnid=1248961011&s=toys-and-games&sprefix=toys%2Caps%2C170&sr=1-46\" target=\"_blank\">https://www.amazon.com/TEMI-Electronic-Educational-Tyrannosaurus-Rechargeable/dp/B07DGTSQ21/ref=sr_1_46?crid=23X2CHTW4649I&amp;keywords=toys&amp;qid=1651201775&amp;refinements=p_72%3A1248963011&amp;rnid=1248961011&amp;s=toys-and-games&amp;sprefix=toys%2Caps%2C170&amp;sr=1-46</a></td>\n",
       "      <td>4809.0</td>\n",
       "      <td>33.9900</td>\n",
       "      <td>62.191324</td>\n",
       "    </tr>\n",
       "    <tr>\n",
       "      <th>79</th>\n",
       "      <td>Baby Toys 6 to 12 Months Touch &amp; Go Musical Light Infant Toys, Baby Crawling Toys 6 Month Old Baby Toys 12-18 Months, Tummy Time Toys for 1 Year Old Boy Gifts Girl Toy, Baby Toddler Boy Toys Age 1-2</td>\n",
       "      <td><a href=\"https://www.amazon.com/Dinosaur-Electronic-Crawling-Development-Educational/dp/B082G4QRKL/ref=sr_1_57?crid=23X2CHTW4649I&keywords=toys&qid=1651201784&refinements=p_72%3A1248963011&rnid=1248961011&s=toys-and-games&sprefix=toys%2Caps%2C170&sr=1-57\" target=\"_blank\">https://www.amazon.com/Dinosaur-Electronic-Crawling-Development-Educational/dp/B082G4QRKL/ref=sr_1_57?crid=23X2CHTW4649I&amp;keywords=toys&amp;qid=1651201784&amp;refinements=p_72%3A1248963011&amp;rnid=1248961011&amp;s=toys-and-games&amp;sprefix=toys%2Caps%2C170&amp;sr=1-57</a></td>\n",
       "      <td>2653.0</td>\n",
       "      <td>18.6900</td>\n",
       "      <td>58.457435</td>\n",
       "    </tr>\n",
       "    <tr>\n",
       "      <th>3</th>\n",
       "      <td>Jasonwell Splash Pad Sprinkler for Kids 68\" Splash Play Mat Outdoor Water Toys Inflatable Splash Pad Baby Toddler Pool Boys Girls Children Outside Backyard Dog Sprinkler Pool for Age 1 2 3 4 5 6 7 8 9</td>\n",
       "      <td><a href=\"https://www.amazon.com/Jasonwell-Sprinkle-Sprinkler-Toddlers-Children/dp/B07LG9CGF1/ref=sr_1_4?crid=23X2CHTW4649I&keywords=toys&qid=1651201763&refinements=p_72%3A1248963011&rnid=1248961011&s=toys-and-games&sprefix=toys%2Caps%2C170&sr=1-4\" target=\"_blank\">https://www.amazon.com/Jasonwell-Sprinkle-Sprinkler-Toddlers-Children/dp/B07LG9CGF1/ref=sr_1_4?crid=23X2CHTW4649I&amp;keywords=toys&amp;qid=1651201763&amp;refinements=p_72%3A1248963011&amp;rnid=1248961011&amp;s=toys-and-games&amp;sprefix=toys%2Caps%2C170&amp;sr=1-4</a></td>\n",
       "      <td>11005.0</td>\n",
       "      <td>17.9910</td>\n",
       "      <td>53.857399</td>\n",
       "    </tr>\n",
       "    <tr>\n",
       "      <th>10</th>\n",
       "      <td>HOLA Baby Toys 6 to 12 Months, Baby Rattles Activity Ball, Shaker, Grab and Spin Rattle, Crawling Educational Toys for 3, 6, 9, 12 Months Baby Infant, Boys, Girls</td>\n",
       "      <td><a href=\"https://www.amazon.com/HOLA-Rattles-Activity-Crawling-Educational/dp/B08KP4JFDM/ref=sr_1_12?crid=23X2CHTW4649I&keywords=toys&qid=1651201763&refinements=p_72%3A1248963011&rnid=1248961011&s=toys-and-games&sprefix=toys%2Caps%2C170&sr=1-12\" target=\"_blank\">https://www.amazon.com/HOLA-Rattles-Activity-Crawling-Educational/dp/B08KP4JFDM/ref=sr_1_12?crid=23X2CHTW4649I&amp;keywords=toys&amp;qid=1651201763&amp;refinements=p_72%3A1248963011&amp;rnid=1248961011&amp;s=toys-and-games&amp;sprefix=toys%2Caps%2C170&amp;sr=1-12</a></td>\n",
       "      <td>1035.0</td>\n",
       "      <td>14.2215</td>\n",
       "      <td>52.579193</td>\n",
       "    </tr>\n",
       "    <tr>\n",
       "      <th>24</th>\n",
       "      <td>Bravokids Toys for 3-6 Years Old Girls Boys, LCD Writing Tablet 10 Inch Doodle Board, Electronic Drawing Tablet Drawing Pads, Educational Birthday Gift for 3 4 5 6 7 8 Years Old Kids Toddler (Pink)</td>\n",
       "      <td><a href=\"https://www.amazon.com/Bravokids-Writing-Electronic-Educational-Birthday/dp/B083BCTLP5/ref=sr_1_26?crid=23X2CHTW4649I&keywords=toys&qid=1651201763&refinements=p_72%3A1248963011&rnid=1248961011&s=toys-and-games&sprefix=toys%2Caps%2C170&sr=1-26\" target=\"_blank\">https://www.amazon.com/Bravokids-Writing-Electronic-Educational-Birthday/dp/B083BCTLP5/ref=sr_1_26?crid=23X2CHTW4649I&amp;keywords=toys&amp;qid=1651201763&amp;refinements=p_72%3A1248963011&amp;rnid=1248961011&amp;s=toys-and-games&amp;sprefix=toys%2Caps%2C170&amp;sr=1-26</a></td>\n",
       "      <td>19023.0</td>\n",
       "      <td>14.4837</td>\n",
       "      <td>51.704902</td>\n",
       "    </tr>\n",
       "    <tr>\n",
       "      <th>47</th>\n",
       "      <td>LUKAT Splash Pad for Kids, Inflatable Sprinkler Pad for Toddlers Kiddie Pool, Dolphin Water Play Mat for Outdoor Backyard, Wading Swimming Pool Water Toy Gift for 3 4 5 + Years Old Boys Girls</td>\n",
       "      <td><a href=\"https://www.amazon.com/gp/slredirect/picassoRedirect.html/ref=pa_sp_mtf_toys-and-games_sr_pg2_1?ie=UTF8&adId=A02496073JTFNO1KR587F&qualifier=1651201775&id=8260669810008671&widgetName=sp_mtf&url=%2FLUKAT-Inflatable-Sprinkler-Toddlers-Swimming%2Fdp%2FB08T5NRV5X%2Fref%3Dsr_1_42_sspa%3Fcrid%3D23X2CHTW4649I%26keywords%3Dtoys%26qid%3D1651201775%26refinements%3Dp_72%253A1248963011%26rnid%3D1248961011%26s%3Dtoys-and-games%26sprefix%3Dtoys%252Caps%252C170%26sr%3D1-42-spons%26psc%3D1\" target=\"_blank\">https://www.amazon.com/gp/slredirect/picassoRedirect.html/ref=pa_sp_mtf_toys-and-games_sr_pg2_1?ie=UTF8&amp;adId=A02496073JTFNO1KR587F&amp;qualifier=1651201775&amp;id=8260669810008671&amp;widgetName=sp_mtf&amp;url=%2FLUKAT-Inflatable-Sprinkler-Toddlers-Swimming%2Fdp%2FB08T5NRV5X%2Fref%3Dsr_1_42_sspa%3Fcrid%3D23X2CHTW4649I%26keywords%3Dtoys%26qid%3D1651201775%26refinements%3Dp_72%253A1248963011%26rnid%3D1248961011%26s%3Dtoys-and-games%26sprefix%3Dtoys%252Caps%252C170%26sr%3D1-42-spons%26psc%3D1</a></td>\n",
       "      <td>118.0</td>\n",
       "      <td>16.0140</td>\n",
       "      <td>51.458018</td>\n",
       "    </tr>\n",
       "    <tr>\n",
       "      <th>97</th>\n",
       "      <td>RenFox Musical Piano Mat, Toddlers Music Floor Keyboard Blanket Dance Mat with 8 Different Animal Sounds, Early Learning Educational Toys Gift for 1 2 3 4 Years Old Baby Boy Girl</td>\n",
       "      <td><a href=\"https://www.amazon.com/RenFox-Electronic-Different-Education-Batteries/dp/B0863CGZ6Y/ref=sr_1_77?crid=23X2CHTW4649I&keywords=toys&qid=1651201791&refinements=p_72%3A1248963011&rnid=1248961011&s=toys-and-games&sprefix=toys%2Caps%2C170&sr=1-77\" target=\"_blank\">https://www.amazon.com/RenFox-Electronic-Different-Education-Batteries/dp/B0863CGZ6Y/ref=sr_1_77?crid=23X2CHTW4649I&amp;keywords=toys&amp;qid=1651201791&amp;refinements=p_72%3A1248963011&amp;rnid=1248961011&amp;s=toys-and-games&amp;sprefix=toys%2Caps%2C170&amp;sr=1-77</a></td>\n",
       "      <td>3147.0</td>\n",
       "      <td>12.9900</td>\n",
       "      <td>50.019238</td>\n",
       "    </tr>\n",
       "    <tr>\n",
       "      <th>124</th>\n",
       "      <td>RenFox Musical Piano Mat, Toddlers Music Floor Keyboard Blanket Dance Mat with 8 Different Animal Sounds, Early Learning Educational Toys Gift for 1 2 3 4 Years Old Baby Boy Girl</td>\n",
       "      <td><a href=\"https://www.amazon.com/RenFox-Electronic-Different-Education-Batteries/dp/B0863CGZ6Y/ref=sr_1_77?crid=23X2CHTW4649I&keywords=toys&qid=1651201791&refinements=p_72%3A1248963011&rnid=1248961011&s=toys-and-games&sprefix=toys%2Caps%2C170&sr=1-77\" target=\"_blank\">https://www.amazon.com/RenFox-Electronic-Different-Education-Batteries/dp/B0863CGZ6Y/ref=sr_1_77?crid=23X2CHTW4649I&amp;keywords=toys&amp;qid=1651201791&amp;refinements=p_72%3A1248963011&amp;rnid=1248961011&amp;s=toys-and-games&amp;sprefix=toys%2Caps%2C170&amp;sr=1-77</a></td>\n",
       "      <td>3147.0</td>\n",
       "      <td>12.9900</td>\n",
       "      <td>50.019238</td>\n",
       "    </tr>\n",
       "    <tr>\n",
       "      <th>6</th>\n",
       "      <td>Toys for 3-8 Year Old Girls,Timer Rotation Star Night Light Projector Kids Twinkle Lights, 2-9 Year Olds Girl Gifts Kawaii Birthday Easter Gifts for Kids,Gift for Teen Toddler Baby Girls</td>\n",
       "      <td><a href=\"https://www.amazon.com/Projection-Christmas-Birthday-Stocking-Stuffer/dp/B08NJP91NW/ref=sr_1_8?crid=23X2CHTW4649I&keywords=toys&qid=1651201763&refinements=p_72%3A1248963011&rnid=1248961011&s=toys-and-games&sprefix=toys%2Caps%2C170&sr=1-8\" target=\"_blank\">https://www.amazon.com/Projection-Christmas-Birthday-Stocking-Stuffer/dp/B08NJP91NW/ref=sr_1_8?crid=23X2CHTW4649I&amp;keywords=toys&amp;qid=1651201763&amp;refinements=p_72%3A1248963011&amp;rnid=1248961011&amp;s=toys-and-games&amp;sprefix=toys%2Caps%2C170&amp;sr=1-8</a></td>\n",
       "      <td>3388.0</td>\n",
       "      <td>20.7840</td>\n",
       "      <td>48.027007</td>\n",
       "    </tr>\n",
       "    <tr>\n",
       "      <th>82</th>\n",
       "      <td>NARRIO Interactive Alphabet Wall Chart for Kids - Best Gifts</td>\n",
       "      <td><a href=\"https://www.amazon.com/NARRIO-Educational-Interactive-Alphabet-Christmas/dp/B092PSR6ZC/ref=sr_1_60?crid=23X2CHTW4649I&keywords=toys&qid=1651201784&refinements=p_72%3A1248963011&rnid=1248961011&s=toys-and-games&sprefix=toys%2Caps%2C170&sr=1-60\" target=\"_blank\">https://www.amazon.com/NARRIO-Educational-Interactive-Alphabet-Christmas/dp/B092PSR6ZC/ref=sr_1_60?crid=23X2CHTW4649I&amp;keywords=toys&amp;qid=1651201784&amp;refinements=p_72%3A1248963011&amp;rnid=1248961011&amp;s=toys-and-games&amp;sprefix=toys%2Caps%2C170&amp;sr=1-60</a></td>\n",
       "      <td>1532.0</td>\n",
       "      <td>13.5920</td>\n",
       "      <td>47.702963</td>\n",
       "    </tr>\n",
       "  </tbody>\n",
       "</table>"
      ],
      "text/plain": [
       "<IPython.core.display.HTML object>"
      ]
     },
     "execution_count": 70,
     "metadata": {},
     "output_type": "execute_result"
    }
   ],
   "source": [
    "from IPython.display import HTML\n",
    "#pd.set_option('display.max_colwidth', 50)\n",
    "#HTML(df1.head(10).to_html(render_links=True, escape=True,col_space='15px'))\n",
    "HTML(df1.head(10).to_html(render_links=True))\n",
    "\n"
   ]
  },
  {
   "cell_type": "code",
   "execution_count": 71,
   "id": "55ba6e13",
   "metadata": {},
   "outputs": [
    {
     "data": {
      "text/html": [
       "<div>\n",
       "<style scoped>\n",
       "    .dataframe tbody tr th:only-of-type {\n",
       "        vertical-align: middle;\n",
       "    }\n",
       "\n",
       "    .dataframe tbody tr th {\n",
       "        vertical-align: top;\n",
       "    }\n",
       "\n",
       "    .dataframe thead th {\n",
       "        text-align: right;\n",
       "    }\n",
       "</style>\n",
       "<table border=\"1\" class=\"dataframe\">\n",
       "  <thead>\n",
       "    <tr style=\"text-align: right;\">\n",
       "      <th></th>\n",
       "      <th>Title</th>\n",
       "      <th>ProdLink</th>\n",
       "      <th>TotalReviews</th>\n",
       "      <th>CouponPrice</th>\n",
       "    </tr>\n",
       "    <tr>\n",
       "      <th>PercentReduction</th>\n",
       "      <th></th>\n",
       "      <th></th>\n",
       "      <th></th>\n",
       "      <th></th>\n",
       "    </tr>\n",
       "  </thead>\n",
       "  <tbody>\n",
       "    <tr>\n",
       "      <th>40.755835</th>\n",
       "      <td>2</td>\n",
       "      <td>2</td>\n",
       "      <td>2</td>\n",
       "      <td>2</td>\n",
       "    </tr>\n",
       "    <tr>\n",
       "      <th>41.058173</th>\n",
       "      <td>1</td>\n",
       "      <td>1</td>\n",
       "      <td>1</td>\n",
       "      <td>1</td>\n",
       "    </tr>\n",
       "    <tr>\n",
       "      <th>42.272854</th>\n",
       "      <td>1</td>\n",
       "      <td>1</td>\n",
       "      <td>1</td>\n",
       "      <td>1</td>\n",
       "    </tr>\n",
       "    <tr>\n",
       "      <th>42.323971</th>\n",
       "      <td>2</td>\n",
       "      <td>2</td>\n",
       "      <td>2</td>\n",
       "      <td>2</td>\n",
       "    </tr>\n",
       "    <tr>\n",
       "      <th>43.026605</th>\n",
       "      <td>2</td>\n",
       "      <td>2</td>\n",
       "      <td>2</td>\n",
       "      <td>2</td>\n",
       "    </tr>\n",
       "    <tr>\n",
       "      <th>44.405533</th>\n",
       "      <td>2</td>\n",
       "      <td>2</td>\n",
       "      <td>2</td>\n",
       "      <td>2</td>\n",
       "    </tr>\n",
       "    <tr>\n",
       "      <th>44.441404</th>\n",
       "      <td>2</td>\n",
       "      <td>2</td>\n",
       "      <td>2</td>\n",
       "      <td>2</td>\n",
       "    </tr>\n",
       "    <tr>\n",
       "      <th>45.818283</th>\n",
       "      <td>1</td>\n",
       "      <td>1</td>\n",
       "      <td>1</td>\n",
       "      <td>1</td>\n",
       "    </tr>\n",
       "    <tr>\n",
       "      <th>45.877889</th>\n",
       "      <td>2</td>\n",
       "      <td>2</td>\n",
       "      <td>2</td>\n",
       "      <td>2</td>\n",
       "    </tr>\n",
       "    <tr>\n",
       "      <th>46.018009</th>\n",
       "      <td>1</td>\n",
       "      <td>1</td>\n",
       "      <td>1</td>\n",
       "      <td>1</td>\n",
       "    </tr>\n",
       "    <tr>\n",
       "      <th>47.446024</th>\n",
       "      <td>1</td>\n",
       "      <td>1</td>\n",
       "      <td>1</td>\n",
       "      <td>1</td>\n",
       "    </tr>\n",
       "    <tr>\n",
       "      <th>47.702963</th>\n",
       "      <td>1</td>\n",
       "      <td>1</td>\n",
       "      <td>1</td>\n",
       "      <td>1</td>\n",
       "    </tr>\n",
       "    <tr>\n",
       "      <th>48.027007</th>\n",
       "      <td>1</td>\n",
       "      <td>1</td>\n",
       "      <td>1</td>\n",
       "      <td>1</td>\n",
       "    </tr>\n",
       "    <tr>\n",
       "      <th>50.019238</th>\n",
       "      <td>2</td>\n",
       "      <td>2</td>\n",
       "      <td>2</td>\n",
       "      <td>2</td>\n",
       "    </tr>\n",
       "    <tr>\n",
       "      <th>51.458018</th>\n",
       "      <td>1</td>\n",
       "      <td>1</td>\n",
       "      <td>1</td>\n",
       "      <td>1</td>\n",
       "    </tr>\n",
       "    <tr>\n",
       "      <th>51.704902</th>\n",
       "      <td>1</td>\n",
       "      <td>1</td>\n",
       "      <td>1</td>\n",
       "      <td>1</td>\n",
       "    </tr>\n",
       "    <tr>\n",
       "      <th>52.579193</th>\n",
       "      <td>1</td>\n",
       "      <td>1</td>\n",
       "      <td>1</td>\n",
       "      <td>1</td>\n",
       "    </tr>\n",
       "    <tr>\n",
       "      <th>53.857399</th>\n",
       "      <td>1</td>\n",
       "      <td>1</td>\n",
       "      <td>1</td>\n",
       "      <td>1</td>\n",
       "    </tr>\n",
       "    <tr>\n",
       "      <th>58.457435</th>\n",
       "      <td>1</td>\n",
       "      <td>1</td>\n",
       "      <td>1</td>\n",
       "      <td>1</td>\n",
       "    </tr>\n",
       "    <tr>\n",
       "      <th>62.191324</th>\n",
       "      <td>1</td>\n",
       "      <td>1</td>\n",
       "      <td>1</td>\n",
       "      <td>1</td>\n",
       "    </tr>\n",
       "  </tbody>\n",
       "</table>\n",
       "</div>"
      ],
      "text/plain": [
       "                  Title  ProdLink  TotalReviews  CouponPrice\n",
       "PercentReduction                                            \n",
       "40.755835             2         2             2            2\n",
       "41.058173             1         1             1            1\n",
       "42.272854             1         1             1            1\n",
       "42.323971             2         2             2            2\n",
       "43.026605             2         2             2            2\n",
       "44.405533             2         2             2            2\n",
       "44.441404             2         2             2            2\n",
       "45.818283             1         1             1            1\n",
       "45.877889             2         2             2            2\n",
       "46.018009             1         1             1            1\n",
       "47.446024             1         1             1            1\n",
       "47.702963             1         1             1            1\n",
       "48.027007             1         1             1            1\n",
       "50.019238             2         2             2            2\n",
       "51.458018             1         1             1            1\n",
       "51.704902             1         1             1            1\n",
       "52.579193             1         1             1            1\n",
       "53.857399             1         1             1            1\n",
       "58.457435             1         1             1            1\n",
       "62.191324             1         1             1            1"
      ]
     },
     "execution_count": 71,
     "metadata": {},
     "output_type": "execute_result"
    }
   ],
   "source": [
    "df1_grouped=df1.groupby(by=['PercentReduction']).count()\n",
    "df2=df1_grouped.tail(20)\n",
    "df2"
   ]
  },
  {
   "cell_type": "markdown",
   "id": "277f85f0",
   "metadata": {},
   "source": [
    "# Visualization"
   ]
  },
  {
   "cell_type": "code",
   "execution_count": 72,
   "id": "5c14b509",
   "metadata": {},
   "outputs": [
    {
     "name": "stdout",
     "output_type": "stream",
     "text": [
      "<class 'pandas.core.frame.DataFrame'>\n",
      "Int64Index: 147 entries, 51 to 146\n",
      "Data columns (total 5 columns):\n",
      " #   Column            Non-Null Count  Dtype  \n",
      "---  ------            --------------  -----  \n",
      " 0   Title             147 non-null    object \n",
      " 1   ProdLink          147 non-null    object \n",
      " 2   TotalReviews      147 non-null    float64\n",
      " 3   CouponPrice       147 non-null    float64\n",
      " 4   PercentReduction  147 non-null    float64\n",
      "dtypes: float64(3), object(2)\n",
      "memory usage: 6.9+ KB\n"
     ]
    }
   ],
   "source": [
    "df1.info()\n"
   ]
  },
  {
   "cell_type": "code",
   "execution_count": 96,
   "id": "378f0282",
   "metadata": {},
   "outputs": [
    {
     "data": {
      "image/png": "[encoded data removed]",
      "text/plain": [
       "<Figure size 1080x1080 with 1 Axes>"
      ]
     },
     "metadata": {
      "needs_background": "light"
     },
     "output_type": "display_data"
    }
   ],
   "source": [
    "df2=pd.DataFrame(df1['PercentReduction'].sort_values(ascending=False))\n",
    "df2[['Title','PercentReduction']]=df1[['Title','PercentReduction']]\n",
    "df2=df2.head(5)\n",
    "df2['PercentReduction']=df2['PercentReduction'].astype(int)\n",
    "plt.figure(figsize=(15,15))\n",
    "sns.barplot(x = 'PercentReduction', y = 'Title', data =df2 )\n",
    "plt.xlabel('PercentReduction', size = 30)\n",
    "plt.ylabel(\"Title\", size = 30)\n",
    "plt.title(\"Top 10 high discounted products\", size = 20)\n",
    "plt.xlim(90, 100)\n",
    "plt.show()"
   ]
  },
  {
   "cell_type": "code",
   "execution_count": 124,
   "id": "1ddf5acb",
   "metadata": {},
   "outputs": [
    {
     "ename": "ValueError",
     "evalue": "Columns must be same length as key",
     "output_type": "error",
     "traceback": [
      "\u001b[0;31m---------------------------------------------------------------------------\u001b[0m",
      "\u001b[0;31mValueError\u001b[0m                                Traceback (most recent call last)",
      "Input \u001b[0;32mIn [124]\u001b[0m, in \u001b[0;36m<cell line: 1>\u001b[0;34m()\u001b[0m\n\u001b[0;32m----> 1\u001b[0m df2[[\u001b[38;5;124m'\u001b[39m\u001b[38;5;124mTitle\u001b[39m\u001b[38;5;124m'\u001b[39m,\u001b[38;5;124m'\u001b[39m\u001b[38;5;124mOtherTitle\u001b[39m\u001b[38;5;124m'\u001b[39m]]\u001b[38;5;241m=\u001b[39mdf2[\u001b[38;5;124m'\u001b[39m\u001b[38;5;124mTitle\u001b[39m\u001b[38;5;124m'\u001b[39m]\u001b[38;5;241m.\u001b[39mstr\u001b[38;5;241m.\u001b[39msplit(\u001b[38;5;124m'\u001b[39m\u001b[38;5;124m,\u001b[39m\u001b[38;5;124m'\u001b[39m,n\u001b[38;5;241m=\u001b[39m\u001b[38;5;241m1\u001b[39m, expand\u001b[38;5;241m=\u001b[39m\u001b[38;5;28;01mTrue\u001b[39;00m)\n",
      "File \u001b[0;32m/usr/local/lib/python3.9/site-packages/pandas/core/frame.py:3643\u001b[0m, in \u001b[0;36mDataFrame.__setitem__\u001b[0;34m(self, key, value)\u001b[0m\n\u001b[1;32m   3641\u001b[0m     \u001b[38;5;28mself\u001b[39m\u001b[38;5;241m.\u001b[39m_setitem_frame(key, value)\n\u001b[1;32m   3642\u001b[0m \u001b[38;5;28;01melif\u001b[39;00m \u001b[38;5;28misinstance\u001b[39m(key, (Series, np\u001b[38;5;241m.\u001b[39mndarray, \u001b[38;5;28mlist\u001b[39m, Index)):\n\u001b[0;32m-> 3643\u001b[0m     \u001b[38;5;28;43mself\u001b[39;49m\u001b[38;5;241;43m.\u001b[39;49m\u001b[43m_setitem_array\u001b[49m\u001b[43m(\u001b[49m\u001b[43mkey\u001b[49m\u001b[43m,\u001b[49m\u001b[43m \u001b[49m\u001b[43mvalue\u001b[49m\u001b[43m)\u001b[49m\n\u001b[1;32m   3644\u001b[0m \u001b[38;5;28;01melif\u001b[39;00m \u001b[38;5;28misinstance\u001b[39m(value, DataFrame):\n\u001b[1;32m   3645\u001b[0m     \u001b[38;5;28mself\u001b[39m\u001b[38;5;241m.\u001b[39m_set_item_frame_value(key, value)\n",
      "File \u001b[0;32m/usr/local/lib/python3.9/site-packages/pandas/core/frame.py:3685\u001b[0m, in \u001b[0;36mDataFrame._setitem_array\u001b[0;34m(self, key, value)\u001b[0m\n\u001b[1;32m   3680\u001b[0m \u001b[38;5;28;01melse\u001b[39;00m:\n\u001b[1;32m   3681\u001b[0m     \u001b[38;5;66;03m# Note: unlike self.iloc[:, indexer] = value, this will\u001b[39;00m\n\u001b[1;32m   3682\u001b[0m     \u001b[38;5;66;03m#  never try to overwrite values inplace\u001b[39;00m\n\u001b[1;32m   3684\u001b[0m     \u001b[38;5;28;01mif\u001b[39;00m \u001b[38;5;28misinstance\u001b[39m(value, DataFrame):\n\u001b[0;32m-> 3685\u001b[0m         \u001b[43mcheck_key_length\u001b[49m\u001b[43m(\u001b[49m\u001b[38;5;28;43mself\u001b[39;49m\u001b[38;5;241;43m.\u001b[39;49m\u001b[43mcolumns\u001b[49m\u001b[43m,\u001b[49m\u001b[43m \u001b[49m\u001b[43mkey\u001b[49m\u001b[43m,\u001b[49m\u001b[43m \u001b[49m\u001b[43mvalue\u001b[49m\u001b[43m)\u001b[49m\n\u001b[1;32m   3686\u001b[0m         \u001b[38;5;28;01mfor\u001b[39;00m k1, k2 \u001b[38;5;129;01min\u001b[39;00m \u001b[38;5;28mzip\u001b[39m(key, value\u001b[38;5;241m.\u001b[39mcolumns):\n\u001b[1;32m   3687\u001b[0m             \u001b[38;5;28mself\u001b[39m[k1] \u001b[38;5;241m=\u001b[39m value[k2]\n",
      "File \u001b[0;32m/usr/local/lib/python3.9/site-packages/pandas/core/indexers/utils.py:428\u001b[0m, in \u001b[0;36mcheck_key_length\u001b[0;34m(columns, key, value)\u001b[0m\n\u001b[1;32m    426\u001b[0m \u001b[38;5;28;01mif\u001b[39;00m columns\u001b[38;5;241m.\u001b[39mis_unique:\n\u001b[1;32m    427\u001b[0m     \u001b[38;5;28;01mif\u001b[39;00m \u001b[38;5;28mlen\u001b[39m(value\u001b[38;5;241m.\u001b[39mcolumns) \u001b[38;5;241m!=\u001b[39m \u001b[38;5;28mlen\u001b[39m(key):\n\u001b[0;32m--> 428\u001b[0m         \u001b[38;5;28;01mraise\u001b[39;00m \u001b[38;5;167;01mValueError\u001b[39;00m(\u001b[38;5;124m\"\u001b[39m\u001b[38;5;124mColumns must be same length as key\u001b[39m\u001b[38;5;124m\"\u001b[39m)\n\u001b[1;32m    429\u001b[0m \u001b[38;5;28;01melse\u001b[39;00m:\n\u001b[1;32m    430\u001b[0m     \u001b[38;5;66;03m# Missing keys in columns are represented as -1\u001b[39;00m\n\u001b[1;32m    431\u001b[0m     \u001b[38;5;28;01mif\u001b[39;00m \u001b[38;5;28mlen\u001b[39m(columns\u001b[38;5;241m.\u001b[39mget_indexer_non_unique(key)[\u001b[38;5;241m0\u001b[39m]) \u001b[38;5;241m!=\u001b[39m \u001b[38;5;28mlen\u001b[39m(value\u001b[38;5;241m.\u001b[39mcolumns):\n",
      "\u001b[0;31mValueError\u001b[0m: Columns must be same length as key"
     ]
    }
   ],
   "source": [
    "\n",
    "df2[['Title','OtherTitle']]=df2['Title'].str.split(',',n=1, expand=True)\n",
    "#df2.head(10)\n",
    "#df2['Title']= df2['0']\n",
    "#df2.head(10)\n",
    "#df2['Title']=df2['Title'].astype(float)\n",
    "#print(df2.dtypes)\n",
    "#df1.sort_values('PercentReduction').plot(kind='bar', x='PercentReduction', y='Title')\n",
    "#plt.tight_layout()"
   ]
  },
  {
   "cell_type": "code",
   "execution_count": 68,
   "id": "8bf0bfdf",
   "metadata": {},
   "outputs": [
    {
     "ename": "TypeError",
     "evalue": "bar() got multiple values for argument 'x'",
     "output_type": "error",
     "traceback": [
      "\u001b[0;31m---------------------------------------------------------------------------\u001b[0m",
      "\u001b[0;31mTypeError\u001b[0m                                 Traceback (most recent call last)",
      "Input \u001b[0;32mIn [68]\u001b[0m, in \u001b[0;36m<cell line: 1>\u001b[0;34m()\u001b[0m\n\u001b[0;32m----> 1\u001b[0m bar_chart\u001b[38;5;241m=\u001b[39m\u001b[43mplt\u001b[49m\u001b[38;5;241;43m.\u001b[39;49m\u001b[43mbar\u001b[49m\u001b[43m(\u001b[49m\u001b[43mdf2\u001b[49m\u001b[43m,\u001b[49m\n\u001b[1;32m      2\u001b[0m \u001b[43m                \u001b[49m\u001b[43mx\u001b[49m\u001b[38;5;241;43m=\u001b[39;49m\u001b[38;5;124;43m'\u001b[39;49m\u001b[38;5;124;43mPercentReduction\u001b[39;49m\u001b[38;5;124;43m'\u001b[39;49m\u001b[43m,\u001b[49m\n\u001b[1;32m      3\u001b[0m \u001b[43m                \u001b[49m\u001b[43my\u001b[49m\u001b[38;5;241;43m=\u001b[39;49m\u001b[38;5;124;43m'\u001b[39;49m\u001b[38;5;124;43mTotalReviews\u001b[39;49m\u001b[38;5;124;43m'\u001b[39;49m\u001b[43m,\u001b[49m\n\u001b[1;32m      4\u001b[0m \u001b[43m                \u001b[49m\u001b[43mtext\u001b[49m\u001b[38;5;241;43m=\u001b[39;49m\u001b[38;5;124;43m'\u001b[39;49m\u001b[38;5;124;43mReviews with percentage price reduction\u001b[39;49m\u001b[38;5;124;43m'\u001b[39;49m\u001b[43m,\u001b[49m\n\u001b[1;32m      5\u001b[0m \u001b[43m                \u001b[49m\u001b[43mcolor_discrete_sequence\u001b[49m\u001b[38;5;241;43m=\u001b[39;49m\u001b[43m[\u001b[49m\u001b[38;5;124;43m'\u001b[39;49m\u001b[38;5;124;43m#F63366\u001b[39;49m\u001b[38;5;124;43m'\u001b[39;49m\u001b[43m]\u001b[49m\u001b[38;5;241;43m*\u001b[39;49m\u001b[38;5;28;43mlen\u001b[39;49m\u001b[43m(\u001b[49m\u001b[43mdf2\u001b[49m\u001b[43m)\u001b[49m\u001b[43m,\u001b[49m\n\u001b[1;32m      6\u001b[0m \u001b[43m                \u001b[49m\u001b[43mtemplate\u001b[49m\u001b[38;5;241;43m=\u001b[39;49m\u001b[38;5;124;43m'\u001b[39;49m\u001b[38;5;124;43mplotly_white\u001b[39;49m\u001b[38;5;124;43m'\u001b[39;49m\n\u001b[1;32m      7\u001b[0m \u001b[43m                \u001b[49m\u001b[43m)\u001b[49m\n",
      "\u001b[0;31mTypeError\u001b[0m: bar() got multiple values for argument 'x'"
     ]
    }
   ],
   "source": [
    "bar_chart=plt.bar(df2,\n",
    "                x='PercentReduction',\n",
    "                y='TotalReviews',\n",
    "                text='Reviews with percentage price reduction',\n",
    "                color_discrete_sequence=['#F63366']*len(df2),\n",
    "                template='plotly_white'\n",
    "                )"
   ]
  },
  {
   "cell_type": "code",
   "execution_count": 62,
   "id": "259f1f2c",
   "metadata": {},
   "outputs": [
    {
     "ename": "NameError",
     "evalue": "name 'bar_chart' is not defined",
     "output_type": "error",
     "traceback": [
      "\u001b[0;31m---------------------------------------------------------------------------\u001b[0m",
      "\u001b[0;31mNameError\u001b[0m                                 Traceback (most recent call last)",
      "Input \u001b[0;32mIn [62]\u001b[0m, in \u001b[0;36m<cell line: 1>\u001b[0;34m()\u001b[0m\n\u001b[0;32m----> 1\u001b[0m \u001b[43mbar_chart\u001b[49m\u001b[38;5;241m.\u001b[39mshow()\n",
      "\u001b[0;31mNameError\u001b[0m: name 'bar_chart' is not defined"
     ]
    }
   ],
   "source": [
    "bar_chart.show()"
   ]
  },
  {
   "cell_type": "markdown",
   "id": "f85b2de6",
   "metadata": {},
   "source": [
    "# Data Analysis"
   ]
  },
  {
   "cell_type": "code",
   "execution_count": 73,
   "id": "c79d1e2c",
   "metadata": {},
   "outputs": [
    {
     "data": {
      "text/plain": [
       "(147, 11)"
      ]
     },
     "execution_count": 73,
     "metadata": {},
     "output_type": "execute_result"
    }
   ],
   "source": [
    "data=df\n",
    "data.shape"
   ]
  },
  {
   "cell_type": "code",
   "execution_count": 74,
   "id": "990d9c3a",
   "metadata": {},
   "outputs": [
    {
     "name": "stdout",
     "output_type": "stream",
     "text": [
      "<class 'pandas.core.frame.DataFrame'>\n",
      "RangeIndex: 147 entries, 0 to 146\n",
      "Data columns (total 11 columns):\n",
      " #   Column            Non-Null Count  Dtype  \n",
      "---  ------            --------------  -----  \n",
      " 0   Title             147 non-null    object \n",
      " 1   Image             147 non-null    object \n",
      " 2   Rating            147 non-null    object \n",
      " 3   ProdLink          147 non-null    object \n",
      " 4   TotalReviews      147 non-null    float64\n",
      " 5   Price             147 non-null    float64\n",
      " 6   OrgPrice          147 non-null    float64\n",
      " 7   CouponsDesc       113 non-null    object \n",
      " 8   CouponsSummery    60 non-null     object \n",
      " 9   CouponPrice       147 non-null    float64\n",
      " 10  PercentReduction  147 non-null    float64\n",
      "dtypes: float64(5), object(6)\n",
      "memory usage: 12.8+ KB\n"
     ]
    }
   ],
   "source": [
    "data.info()"
   ]
  },
  {
   "cell_type": "code",
   "execution_count": 75,
   "id": "f607bafb",
   "metadata": {},
   "outputs": [
    {
     "data": {
      "text/plain": [
       "array([<AxesSubplot:>, <AxesSubplot:>, <AxesSubplot:>, <AxesSubplot:>,\n",
       "       <AxesSubplot:>], dtype=object)"
      ]
     },
     "execution_count": 75,
     "metadata": {},
     "output_type": "execute_result"
    },
    {
     "data": {
      "image/png": "[encoded data removed]",
      "text/plain": [
       "<Figure size 576x576 with 5 Axes>"
      ]
     },
     "metadata": {
      "needs_background": "light"
     },
     "output_type": "display_data"
    }
   ],
   "source": [
    "data.plot(subplots=True, figsize=(8, 8))"
   ]
  },
  {
   "cell_type": "code",
   "execution_count": 85,
   "id": "324df10a",
   "metadata": {},
   "outputs": [
    {
     "data": {
      "text/plain": [
       "<AxesSubplot:xlabel='PercentReduction', ylabel='Rating'>"
      ]
     },
     "execution_count": 85,
     "metadata": {},
     "output_type": "execute_result"
    },
    {
     "data": {
      "image/png": "[encoded data removed]",
      "text/plain": [
       "<Figure size 432x288 with 1 Axes>"
      ]
     },
     "metadata": {
      "needs_background": "light"
     },
     "output_type": "display_data"
    }
   ],
   "source": [
    "df.plot.scatter(y='Rating', x='PercentReduction')"
   ]
  },
  {
   "cell_type": "markdown",
   "id": "2a836fc3",
   "metadata": {},
   "source": []
  },
  {
   "cell_type": "code",
   "execution_count": 86,
   "id": "2dbe6366",
   "metadata": {},
   "outputs": [
    {
     "name": "stdout",
     "output_type": "stream",
     "text": [
      "<class 'pandas.core.frame.DataFrame'>\n",
      "RangeIndex: 147 entries, 0 to 146\n",
      "Data columns (total 2 columns):\n",
      " #   Column            Non-Null Count  Dtype  \n",
      "---  ------            --------------  -----  \n",
      " 0   Title             147 non-null    object \n",
      " 1   PercentReduction  147 non-null    float64\n",
      "dtypes: float64(1), object(1)\n",
      "memory usage: 2.4+ KB\n"
     ]
    }
   ],
   "source": [
    "df_bar=df[['Title','PercentReduction']]\n",
    "df_bar.info()"
   ]
  },
  {
   "cell_type": "code",
   "execution_count": 89,
   "id": "021a87d0",
   "metadata": {},
   "outputs": [
    {
     "ename": "KeyError",
     "evalue": "' Title'",
     "output_type": "error",
     "traceback": [
      "\u001b[0;31m---------------------------------------------------------------------------\u001b[0m",
      "\u001b[0;31mKeyError\u001b[0m                                  Traceback (most recent call last)",
      "File \u001b[0;32m/usr/local/lib/python3.9/site-packages/pandas/core/indexes/base.py:3621\u001b[0m, in \u001b[0;36mIndex.get_loc\u001b[0;34m(self, key, method, tolerance)\u001b[0m\n\u001b[1;32m   3620\u001b[0m \u001b[38;5;28;01mtry\u001b[39;00m:\n\u001b[0;32m-> 3621\u001b[0m     \u001b[38;5;28;01mreturn\u001b[39;00m \u001b[38;5;28;43mself\u001b[39;49m\u001b[38;5;241;43m.\u001b[39;49m\u001b[43m_engine\u001b[49m\u001b[38;5;241;43m.\u001b[39;49m\u001b[43mget_loc\u001b[49m\u001b[43m(\u001b[49m\u001b[43mcasted_key\u001b[49m\u001b[43m)\u001b[49m\n\u001b[1;32m   3622\u001b[0m \u001b[38;5;28;01mexcept\u001b[39;00m \u001b[38;5;167;01mKeyError\u001b[39;00m \u001b[38;5;28;01mas\u001b[39;00m err:\n",
      "File \u001b[0;32mpandas/_libs/index.pyx:136\u001b[0m, in \u001b[0;36mpandas._libs.index.IndexEngine.get_loc\u001b[0;34m()\u001b[0m\n",
      "File \u001b[0;32mpandas/_libs/index.pyx:163\u001b[0m, in \u001b[0;36mpandas._libs.index.IndexEngine.get_loc\u001b[0;34m()\u001b[0m\n",
      "File \u001b[0;32mpandas/_libs/hashtable_class_helper.pxi:5198\u001b[0m, in \u001b[0;36mpandas._libs.hashtable.PyObjectHashTable.get_item\u001b[0;34m()\u001b[0m\n",
      "File \u001b[0;32mpandas/_libs/hashtable_class_helper.pxi:5206\u001b[0m, in \u001b[0;36mpandas._libs.hashtable.PyObjectHashTable.get_item\u001b[0;34m()\u001b[0m\n",
      "\u001b[0;31mKeyError\u001b[0m: ' Title'",
      "\nThe above exception was the direct cause of the following exception:\n",
      "\u001b[0;31mKeyError\u001b[0m                                  Traceback (most recent call last)",
      "Input \u001b[0;32mIn [89]\u001b[0m, in \u001b[0;36m<cell line: 1>\u001b[0;34m()\u001b[0m\n\u001b[0;32m----> 1\u001b[0m \u001b[43mdf_bar\u001b[49m\u001b[38;5;241;43m.\u001b[39;49m\u001b[43mplot\u001b[49m\u001b[38;5;241;43m.\u001b[39;49m\u001b[43mbar\u001b[49m\u001b[43m(\u001b[49m\u001b[43mx\u001b[49m\u001b[38;5;241;43m=\u001b[39;49m\u001b[38;5;124;43m\"\u001b[39;49m\u001b[38;5;124;43m Title\u001b[39;49m\u001b[38;5;124;43m\"\u001b[39;49m\u001b[43m,\u001b[49m\u001b[43my\u001b[49m\u001b[38;5;241;43m=\u001b[39;49m\u001b[38;5;124;43m\"\u001b[39;49m\u001b[38;5;124;43mPercentReduction\u001b[39;49m\u001b[38;5;124;43m\"\u001b[39;49m\u001b[43m,\u001b[49m\u001b[43m \u001b[49m\u001b[43mrot\u001b[49m\u001b[38;5;241;43m=\u001b[39;49m\u001b[38;5;241;43m70\u001b[39;49m\u001b[43m,\u001b[49m\u001b[43m \u001b[49m\u001b[43mtitle\u001b[49m\u001b[38;5;241;43m=\u001b[39;49m\u001b[38;5;124;43m\"\u001b[39;49m\u001b[38;5;124;43mToys category analysis-May,2022\u001b[39;49m\u001b[38;5;124;43m\"\u001b[39;49m\u001b[43m)\u001b[49m\n",
      "File \u001b[0;32m/usr/local/lib/python3.9/site-packages/pandas/plotting/_core.py:1131\u001b[0m, in \u001b[0;36mPlotAccessor.bar\u001b[0;34m(self, x, y, **kwargs)\u001b[0m\n\u001b[1;32m   1043\u001b[0m \u001b[38;5;129m@Appender\u001b[39m(\n\u001b[1;32m   1044\u001b[0m     \u001b[38;5;124;03m\"\"\"\u001b[39;00m\n\u001b[1;32m   1045\u001b[0m \u001b[38;5;124;03m    See Also\u001b[39;00m\n\u001b[0;32m   (...)\u001b[0m\n\u001b[1;32m   1120\u001b[0m \u001b[38;5;129m@Appender\u001b[39m(_bar_or_line_doc)\n\u001b[1;32m   1121\u001b[0m \u001b[38;5;28;01mdef\u001b[39;00m \u001b[38;5;21mbar\u001b[39m(\u001b[38;5;28mself\u001b[39m, x\u001b[38;5;241m=\u001b[39m\u001b[38;5;28;01mNone\u001b[39;00m, y\u001b[38;5;241m=\u001b[39m\u001b[38;5;28;01mNone\u001b[39;00m, \u001b[38;5;241m*\u001b[39m\u001b[38;5;241m*\u001b[39mkwargs):\n\u001b[1;32m   1122\u001b[0m     \u001b[38;5;124;03m\"\"\"\u001b[39;00m\n\u001b[1;32m   1123\u001b[0m \u001b[38;5;124;03m    Vertical bar plot.\u001b[39;00m\n\u001b[1;32m   1124\u001b[0m \n\u001b[0;32m   (...)\u001b[0m\n\u001b[1;32m   1129\u001b[0m \u001b[38;5;124;03m    other axis represents a measured value.\u001b[39;00m\n\u001b[1;32m   1130\u001b[0m \u001b[38;5;124;03m    \"\"\"\u001b[39;00m\n\u001b[0;32m-> 1131\u001b[0m     \u001b[38;5;28;01mreturn\u001b[39;00m \u001b[38;5;28;43mself\u001b[39;49m\u001b[43m(\u001b[49m\u001b[43mkind\u001b[49m\u001b[38;5;241;43m=\u001b[39;49m\u001b[38;5;124;43m\"\u001b[39;49m\u001b[38;5;124;43mbar\u001b[39;49m\u001b[38;5;124;43m\"\u001b[39;49m\u001b[43m,\u001b[49m\u001b[43m \u001b[49m\u001b[43mx\u001b[49m\u001b[38;5;241;43m=\u001b[39;49m\u001b[43mx\u001b[49m\u001b[43m,\u001b[49m\u001b[43m \u001b[49m\u001b[43my\u001b[49m\u001b[38;5;241;43m=\u001b[39;49m\u001b[43my\u001b[49m\u001b[43m,\u001b[49m\u001b[43m \u001b[49m\u001b[38;5;241;43m*\u001b[39;49m\u001b[38;5;241;43m*\u001b[39;49m\u001b[43mkwargs\u001b[49m\u001b[43m)\u001b[49m\n",
      "File \u001b[0;32m/usr/local/lib/python3.9/site-packages/pandas/plotting/_core.py:937\u001b[0m, in \u001b[0;36mPlotAccessor.__call__\u001b[0;34m(self, *args, **kwargs)\u001b[0m\n\u001b[1;32m    935\u001b[0m \u001b[38;5;28;01mif\u001b[39;00m is_integer(x) \u001b[38;5;129;01mand\u001b[39;00m \u001b[38;5;129;01mnot\u001b[39;00m data\u001b[38;5;241m.\u001b[39mcolumns\u001b[38;5;241m.\u001b[39mholds_integer():\n\u001b[1;32m    936\u001b[0m     x \u001b[38;5;241m=\u001b[39m data_cols[x]\n\u001b[0;32m--> 937\u001b[0m \u001b[38;5;28;01melif\u001b[39;00m \u001b[38;5;129;01mnot\u001b[39;00m \u001b[38;5;28misinstance\u001b[39m(\u001b[43mdata\u001b[49m\u001b[43m[\u001b[49m\u001b[43mx\u001b[49m\u001b[43m]\u001b[49m, ABCSeries):\n\u001b[1;32m    938\u001b[0m     \u001b[38;5;28;01mraise\u001b[39;00m \u001b[38;5;167;01mValueError\u001b[39;00m(\u001b[38;5;124m\"\u001b[39m\u001b[38;5;124mx must be a label or position\u001b[39m\u001b[38;5;124m\"\u001b[39m)\n\u001b[1;32m    939\u001b[0m data \u001b[38;5;241m=\u001b[39m data\u001b[38;5;241m.\u001b[39mset_index(x)\n",
      "File \u001b[0;32m/usr/local/lib/python3.9/site-packages/pandas/core/frame.py:3505\u001b[0m, in \u001b[0;36mDataFrame.__getitem__\u001b[0;34m(self, key)\u001b[0m\n\u001b[1;32m   3503\u001b[0m \u001b[38;5;28;01mif\u001b[39;00m \u001b[38;5;28mself\u001b[39m\u001b[38;5;241m.\u001b[39mcolumns\u001b[38;5;241m.\u001b[39mnlevels \u001b[38;5;241m>\u001b[39m \u001b[38;5;241m1\u001b[39m:\n\u001b[1;32m   3504\u001b[0m     \u001b[38;5;28;01mreturn\u001b[39;00m \u001b[38;5;28mself\u001b[39m\u001b[38;5;241m.\u001b[39m_getitem_multilevel(key)\n\u001b[0;32m-> 3505\u001b[0m indexer \u001b[38;5;241m=\u001b[39m \u001b[38;5;28;43mself\u001b[39;49m\u001b[38;5;241;43m.\u001b[39;49m\u001b[43mcolumns\u001b[49m\u001b[38;5;241;43m.\u001b[39;49m\u001b[43mget_loc\u001b[49m\u001b[43m(\u001b[49m\u001b[43mkey\u001b[49m\u001b[43m)\u001b[49m\n\u001b[1;32m   3506\u001b[0m \u001b[38;5;28;01mif\u001b[39;00m is_integer(indexer):\n\u001b[1;32m   3507\u001b[0m     indexer \u001b[38;5;241m=\u001b[39m [indexer]\n",
      "File \u001b[0;32m/usr/local/lib/python3.9/site-packages/pandas/core/indexes/base.py:3623\u001b[0m, in \u001b[0;36mIndex.get_loc\u001b[0;34m(self, key, method, tolerance)\u001b[0m\n\u001b[1;32m   3621\u001b[0m     \u001b[38;5;28;01mreturn\u001b[39;00m \u001b[38;5;28mself\u001b[39m\u001b[38;5;241m.\u001b[39m_engine\u001b[38;5;241m.\u001b[39mget_loc(casted_key)\n\u001b[1;32m   3622\u001b[0m \u001b[38;5;28;01mexcept\u001b[39;00m \u001b[38;5;167;01mKeyError\u001b[39;00m \u001b[38;5;28;01mas\u001b[39;00m err:\n\u001b[0;32m-> 3623\u001b[0m     \u001b[38;5;28;01mraise\u001b[39;00m \u001b[38;5;167;01mKeyError\u001b[39;00m(key) \u001b[38;5;28;01mfrom\u001b[39;00m \u001b[38;5;21;01merr\u001b[39;00m\n\u001b[1;32m   3624\u001b[0m \u001b[38;5;28;01mexcept\u001b[39;00m \u001b[38;5;167;01mTypeError\u001b[39;00m:\n\u001b[1;32m   3625\u001b[0m     \u001b[38;5;66;03m# If we have a listlike key, _check_indexing_error will raise\u001b[39;00m\n\u001b[1;32m   3626\u001b[0m     \u001b[38;5;66;03m#  InvalidIndexError. Otherwise we fall through and re-raise\u001b[39;00m\n\u001b[1;32m   3627\u001b[0m     \u001b[38;5;66;03m#  the TypeError.\u001b[39;00m\n\u001b[1;32m   3628\u001b[0m     \u001b[38;5;28mself\u001b[39m\u001b[38;5;241m.\u001b[39m_check_indexing_error(key)\n",
      "\u001b[0;31mKeyError\u001b[0m: ' Title'"
     ]
    }
   ],
   "source": [
    "df_bar.plot.bar(x=\" Title\",y=\"PercentReduction\", rot=70, title=\"Toys category analysis-May,2022\");"
   ]
  },
  {
   "cell_type": "code",
   "execution_count": null,
   "id": "661e6671",
   "metadata": {},
   "outputs": [],
   "source": [
    "plt.show(block=True);"
   ]
  },
  {
   "cell_type": "code",
   "execution_count": 83,
   "id": "3e659bff",
   "metadata": {},
   "outputs": [
    {
     "data": {
      "image/png": "[encoded data removed]",
      "text/plain": [
       "<Figure size 432x288 with 1 Axes>"
      ]
     },
     "metadata": {
      "needs_background": "light"
     },
     "output_type": "display_data"
    }
   ],
   "source": [
    "\n"
   ]
  },
  {
   "cell_type": "code",
   "execution_count": null,
   "id": "f18f98f0",
   "metadata": {},
   "outputs": [],
   "source": []
  },
  {
   "cell_type": "code",
   "execution_count": null,
   "id": "0137d335",
   "metadata": {},
   "outputs": [],
   "source": []
  },
  {
   "cell_type": "code",
   "execution_count": 44,
   "id": "c024c14f",
   "metadata": {},
   "outputs": [],
   "source": []
  },
  {
   "cell_type": "code",
   "execution_count": null,
   "id": "49919d8e",
   "metadata": {},
   "outputs": [],
   "source": []
  },
  {
   "cell_type": "code",
   "execution_count": null,
   "id": "c4e4ced0",
   "metadata": {},
   "outputs": [],
   "source": []
  }
 ],
 "metadata": {
  "kernelspec": {
   "display_name": "Python 3 (ipykernel)",
   "language": "python",
   "name": "python3"
  },
  "language_info": {
   "codemirror_mode": {
    "name": "ipython",
    "version": 3
   },
   "file_extension": ".py",
   "mimetype": "text/x-python",
   "name": "python",
   "nbconvert_exporter": "python",
   "pygments_lexer": "ipython3",
   "version": "3.9.12"
  }
 },
 "nbformat": 4,
 "nbformat_minor": 5
}
