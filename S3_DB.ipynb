{
 "cells": [
  {
   "cell_type": "code",
   "execution_count": 37,
   "id": "c211996f",
   "metadata": {},
   "outputs": [],
   "source": [
    "import pymysql"
   ]
  },
  {
   "cell_type": "code",
   "execution_count": 38,
   "id": "7a87d3be",
   "metadata": {},
   "outputs": [
    {
     "name": "stdout",
     "output_type": "stream",
     "text": [
      "<pymysql.cursors.Cursor object at 0x11f66fe50>\n"
     ]
    }
   ],
   "source": [
    "connection = pymysql.connect( 'database-1.cbrnhoat32p7.us-east-1.rds.amazonaws.com', 'myuser', 'myPass05')\n",
    "cursor = connection.cursor()\n",
    "print(cursor)"
   ]
  },
  {
   "cell_type": "code",
   "execution_count": 44,
   "id": "0e9892ba",
   "metadata": {},
   "outputs": [
    {
     "data": {
      "text/plain": [
       "1"
      ]
     },
     "execution_count": 44,
     "metadata": {},
     "output_type": "execute_result"
    }
   ],
   "source": [
    "cursor.execute(\"select version()\")"
   ]
  },
  {
   "cell_type": "code",
   "execution_count": 45,
   "id": "d5829940",
   "metadata": {},
   "outputs": [],
   "source": [
    "data = cursor.fetchone()"
   ]
  },
  {
   "cell_type": "code",
   "execution_count": 41,
   "id": "09953f11",
   "metadata": {},
   "outputs": [
    {
     "data": {
      "text/plain": [
       "('8.0.28',)"
      ]
     },
     "execution_count": 41,
     "metadata": {},
     "output_type": "execute_result"
    }
   ],
   "source": [
    "data"
   ]
  },
  {
   "cell_type": "code",
   "execution_count": 46,
   "id": "41085372",
   "metadata": {},
   "outputs": [
    {
     "ename": "ProgrammingError",
     "evalue": "(1064, \"You have an error in your SQL syntax; check the manual that corresponds to your MySQL server version for the right syntax to use near 'amzdb' at line 1\")",
     "output_type": "error",
     "traceback": [
      "\u001b[0;31m---------------------------------------------------------------------------\u001b[0m",
      "\u001b[0;31mProgrammingError\u001b[0m                          Traceback (most recent call last)",
      "Input \u001b[0;32mIn [46]\u001b[0m, in \u001b[0;36m<cell line: 2>\u001b[0;34m()\u001b[0m\n\u001b[1;32m      1\u001b[0m sql \u001b[38;5;241m=\u001b[39m \u001b[38;5;124m'''\u001b[39m\u001b[38;5;124mselect database amzdb\u001b[39m\u001b[38;5;124m'''\u001b[39m\n\u001b[0;32m----> 2\u001b[0m \u001b[43mcursor\u001b[49m\u001b[38;5;241;43m.\u001b[39;49m\u001b[43mexecute\u001b[49m\u001b[43m(\u001b[49m\u001b[43msql\u001b[49m\u001b[43m)\u001b[49m\n",
      "File \u001b[0;32m/usr/local/lib/python3.9/site-packages/pymysql/cursors.py:170\u001b[0m, in \u001b[0;36mCursor.execute\u001b[0;34m(self, query, args)\u001b[0m\n\u001b[1;32m    166\u001b[0m     \u001b[38;5;28;01mpass\u001b[39;00m\n\u001b[1;32m    168\u001b[0m query \u001b[38;5;241m=\u001b[39m \u001b[38;5;28mself\u001b[39m\u001b[38;5;241m.\u001b[39mmogrify(query, args)\n\u001b[0;32m--> 170\u001b[0m result \u001b[38;5;241m=\u001b[39m \u001b[38;5;28;43mself\u001b[39;49m\u001b[38;5;241;43m.\u001b[39;49m\u001b[43m_query\u001b[49m\u001b[43m(\u001b[49m\u001b[43mquery\u001b[49m\u001b[43m)\u001b[49m\n\u001b[1;32m    171\u001b[0m \u001b[38;5;28mself\u001b[39m\u001b[38;5;241m.\u001b[39m_executed \u001b[38;5;241m=\u001b[39m query\n\u001b[1;32m    172\u001b[0m \u001b[38;5;28;01mreturn\u001b[39;00m result\n",
      "File \u001b[0;32m/usr/local/lib/python3.9/site-packages/pymysql/cursors.py:328\u001b[0m, in \u001b[0;36mCursor._query\u001b[0;34m(self, q)\u001b[0m\n\u001b[1;32m    326\u001b[0m \u001b[38;5;28mself\u001b[39m\u001b[38;5;241m.\u001b[39m_last_executed \u001b[38;5;241m=\u001b[39m q\n\u001b[1;32m    327\u001b[0m \u001b[38;5;28mself\u001b[39m\u001b[38;5;241m.\u001b[39m_clear_result()\n\u001b[0;32m--> 328\u001b[0m \u001b[43mconn\u001b[49m\u001b[38;5;241;43m.\u001b[39;49m\u001b[43mquery\u001b[49m\u001b[43m(\u001b[49m\u001b[43mq\u001b[49m\u001b[43m)\u001b[49m\n\u001b[1;32m    329\u001b[0m \u001b[38;5;28mself\u001b[39m\u001b[38;5;241m.\u001b[39m_do_get_result()\n\u001b[1;32m    330\u001b[0m \u001b[38;5;28;01mreturn\u001b[39;00m \u001b[38;5;28mself\u001b[39m\u001b[38;5;241m.\u001b[39mrowcount\n",
      "File \u001b[0;32m/usr/local/lib/python3.9/site-packages/pymysql/connections.py:517\u001b[0m, in \u001b[0;36mConnection.query\u001b[0;34m(self, sql, unbuffered)\u001b[0m\n\u001b[1;32m    515\u001b[0m         sql \u001b[38;5;241m=\u001b[39m sql\u001b[38;5;241m.\u001b[39mencode(\u001b[38;5;28mself\u001b[39m\u001b[38;5;241m.\u001b[39mencoding, \u001b[38;5;124m'\u001b[39m\u001b[38;5;124msurrogateescape\u001b[39m\u001b[38;5;124m'\u001b[39m)\n\u001b[1;32m    516\u001b[0m \u001b[38;5;28mself\u001b[39m\u001b[38;5;241m.\u001b[39m_execute_command(COMMAND\u001b[38;5;241m.\u001b[39mCOM_QUERY, sql)\n\u001b[0;32m--> 517\u001b[0m \u001b[38;5;28mself\u001b[39m\u001b[38;5;241m.\u001b[39m_affected_rows \u001b[38;5;241m=\u001b[39m \u001b[38;5;28;43mself\u001b[39;49m\u001b[38;5;241;43m.\u001b[39;49m\u001b[43m_read_query_result\u001b[49m\u001b[43m(\u001b[49m\u001b[43munbuffered\u001b[49m\u001b[38;5;241;43m=\u001b[39;49m\u001b[43munbuffered\u001b[49m\u001b[43m)\u001b[49m\n\u001b[1;32m    518\u001b[0m \u001b[38;5;28;01mreturn\u001b[39;00m \u001b[38;5;28mself\u001b[39m\u001b[38;5;241m.\u001b[39m_affected_rows\n",
      "File \u001b[0;32m/usr/local/lib/python3.9/site-packages/pymysql/connections.py:732\u001b[0m, in \u001b[0;36mConnection._read_query_result\u001b[0;34m(self, unbuffered)\u001b[0m\n\u001b[1;32m    730\u001b[0m \u001b[38;5;28;01melse\u001b[39;00m:\n\u001b[1;32m    731\u001b[0m     result \u001b[38;5;241m=\u001b[39m MySQLResult(\u001b[38;5;28mself\u001b[39m)\n\u001b[0;32m--> 732\u001b[0m     \u001b[43mresult\u001b[49m\u001b[38;5;241;43m.\u001b[39;49m\u001b[43mread\u001b[49m\u001b[43m(\u001b[49m\u001b[43m)\u001b[49m\n\u001b[1;32m    733\u001b[0m \u001b[38;5;28mself\u001b[39m\u001b[38;5;241m.\u001b[39m_result \u001b[38;5;241m=\u001b[39m result\n\u001b[1;32m    734\u001b[0m \u001b[38;5;28;01mif\u001b[39;00m result\u001b[38;5;241m.\u001b[39mserver_status \u001b[38;5;129;01mis\u001b[39;00m \u001b[38;5;129;01mnot\u001b[39;00m \u001b[38;5;28;01mNone\u001b[39;00m:\n",
      "File \u001b[0;32m/usr/local/lib/python3.9/site-packages/pymysql/connections.py:1075\u001b[0m, in \u001b[0;36mMySQLResult.read\u001b[0;34m(self)\u001b[0m\n\u001b[1;32m   1073\u001b[0m \u001b[38;5;28;01mdef\u001b[39;00m \u001b[38;5;21mread\u001b[39m(\u001b[38;5;28mself\u001b[39m):\n\u001b[1;32m   1074\u001b[0m     \u001b[38;5;28;01mtry\u001b[39;00m:\n\u001b[0;32m-> 1075\u001b[0m         first_packet \u001b[38;5;241m=\u001b[39m \u001b[38;5;28;43mself\u001b[39;49m\u001b[38;5;241;43m.\u001b[39;49m\u001b[43mconnection\u001b[49m\u001b[38;5;241;43m.\u001b[39;49m\u001b[43m_read_packet\u001b[49m\u001b[43m(\u001b[49m\u001b[43m)\u001b[49m\n\u001b[1;32m   1077\u001b[0m         \u001b[38;5;28;01mif\u001b[39;00m first_packet\u001b[38;5;241m.\u001b[39mis_ok_packet():\n\u001b[1;32m   1078\u001b[0m             \u001b[38;5;28mself\u001b[39m\u001b[38;5;241m.\u001b[39m_read_ok_packet(first_packet)\n",
      "File \u001b[0;32m/usr/local/lib/python3.9/site-packages/pymysql/connections.py:684\u001b[0m, in \u001b[0;36mConnection._read_packet\u001b[0;34m(self, packet_type)\u001b[0m\n\u001b[1;32m    681\u001b[0m         \u001b[38;5;28;01mbreak\u001b[39;00m\n\u001b[1;32m    683\u001b[0m packet \u001b[38;5;241m=\u001b[39m packet_type(buff, \u001b[38;5;28mself\u001b[39m\u001b[38;5;241m.\u001b[39mencoding)\n\u001b[0;32m--> 684\u001b[0m \u001b[43mpacket\u001b[49m\u001b[38;5;241;43m.\u001b[39;49m\u001b[43mcheck_error\u001b[49m\u001b[43m(\u001b[49m\u001b[43m)\u001b[49m\n\u001b[1;32m    685\u001b[0m \u001b[38;5;28;01mreturn\u001b[39;00m packet\n",
      "File \u001b[0;32m/usr/local/lib/python3.9/site-packages/pymysql/protocol.py:220\u001b[0m, in \u001b[0;36mMysqlPacket.check_error\u001b[0;34m(self)\u001b[0m\n\u001b[1;32m    218\u001b[0m errno \u001b[38;5;241m=\u001b[39m \u001b[38;5;28mself\u001b[39m\u001b[38;5;241m.\u001b[39mread_uint16()\n\u001b[1;32m    219\u001b[0m \u001b[38;5;28;01mif\u001b[39;00m DEBUG: \u001b[38;5;28mprint\u001b[39m(\u001b[38;5;124m\"\u001b[39m\u001b[38;5;124merrno =\u001b[39m\u001b[38;5;124m\"\u001b[39m, errno)\n\u001b[0;32m--> 220\u001b[0m \u001b[43merr\u001b[49m\u001b[38;5;241;43m.\u001b[39;49m\u001b[43mraise_mysql_exception\u001b[49m\u001b[43m(\u001b[49m\u001b[38;5;28;43mself\u001b[39;49m\u001b[38;5;241;43m.\u001b[39;49m\u001b[43m_data\u001b[49m\u001b[43m)\u001b[49m\n",
      "File \u001b[0;32m/usr/local/lib/python3.9/site-packages/pymysql/err.py:109\u001b[0m, in \u001b[0;36mraise_mysql_exception\u001b[0;34m(data)\u001b[0m\n\u001b[1;32m    107\u001b[0m     errval \u001b[38;5;241m=\u001b[39m data[\u001b[38;5;241m3\u001b[39m:]\u001b[38;5;241m.\u001b[39mdecode(\u001b[38;5;124m'\u001b[39m\u001b[38;5;124mutf-8\u001b[39m\u001b[38;5;124m'\u001b[39m, \u001b[38;5;124m'\u001b[39m\u001b[38;5;124mreplace\u001b[39m\u001b[38;5;124m'\u001b[39m)\n\u001b[1;32m    108\u001b[0m errorclass \u001b[38;5;241m=\u001b[39m error_map\u001b[38;5;241m.\u001b[39mget(errno, InternalError)\n\u001b[0;32m--> 109\u001b[0m \u001b[38;5;28;01mraise\u001b[39;00m errorclass(errno, errval)\n",
      "\u001b[0;31mProgrammingError\u001b[0m: (1064, \"You have an error in your SQL syntax; check the manual that corresponds to your MySQL server version for the right syntax to use near 'amzdb' at line 1\")"
     ]
    }
   ],
   "source": [
    "sql = '''select database amzdb'''\n",
    "cursor.execute(sql)"
   ]
  },
  {
   "cell_type": "code",
   "execution_count": 11,
   "id": "092c7541",
   "metadata": {},
   "outputs": [
    {
     "data": {
      "text/plain": [
       "0"
      ]
     },
     "execution_count": 11,
     "metadata": {},
     "output_type": "execute_result"
    }
   ],
   "source": []
  },
  {
   "cell_type": "code",
   "execution_count": 12,
   "id": "5bfc1218",
   "metadata": {},
   "outputs": [],
   "source": [
    "cursor.connection.commit()"
   ]
  },
  {
   "cell_type": "code",
   "execution_count": 47,
   "id": "d6f056d6",
   "metadata": {},
   "outputs": [
    {
     "data": {
      "text/plain": [
       "0"
      ]
     },
     "execution_count": 47,
     "metadata": {},
     "output_type": "execute_result"
    }
   ],
   "source": [
    "sql = '''use amzdb'''\n",
    "cursor.execute(sql)"
   ]
  },
  {
   "cell_type": "code",
   "execution_count": 14,
   "id": "a6fb3b81",
   "metadata": {},
   "outputs": [
    {
     "data": {
      "text/plain": [
       "0"
      ]
     },
     "execution_count": 14,
     "metadata": {},
     "output_type": "execute_result"
    }
   ],
   "source": [
    "sql = '''\n",
    "create table toystable (\n",
    "id int not null auto_increment,\n",
    "Title text,\n",
    "Price decimal,\n",
    "primary key (id)\n",
    ")\n",
    "'''\n",
    "cursor.execute(sql)"
   ]
  },
  {
   "cell_type": "code",
   "execution_count": 15,
   "id": "d1700f67",
   "metadata": {},
   "outputs": [],
   "source": [
    "cursor.connection.commit()"
   ]
  },
  {
   "cell_type": "code",
   "execution_count": 48,
   "id": "16a39b02",
   "metadata": {},
   "outputs": [
    {
     "data": {
      "text/plain": [
       "(('toystable',),)"
      ]
     },
     "execution_count": 48,
     "metadata": {},
     "output_type": "execute_result"
    }
   ],
   "source": [
    "sql = '''\n",
    "show tables\n",
    "'''\n",
    "cursor.execute(sql)\n",
    "cursor.fetchall()"
   ]
  },
  {
   "cell_type": "code",
   "execution_count": 20,
   "id": "f0403ccd",
   "metadata": {},
   "outputs": [
    {
     "name": "stderr",
     "output_type": "stream",
     "text": [
      "/usr/local/lib/python3.9/site-packages/pymysql/cursors.py:170: Warning: (1265, \"Data truncated for column 'Price' at row 1\")\n",
      "  result = self._query(query)\n"
     ]
    }
   ],
   "source": [
    "sql = '''\n",
    "insert into toystable(Title, Price) values('%s', '%s')''' % ('toy1', 99.99)\n",
    "\n",
    "cursor.execute(sql)\n",
    "cursor.connection.commit()"
   ]
  },
  {
   "cell_type": "code",
   "execution_count": 63,
   "id": "e0dd7769",
   "metadata": {},
   "outputs": [
    {
     "data": {
      "text/plain": [
       "((1, 'toy1', Decimal('100')),\n",
       " (2, '1', Decimal('0')),\n",
       " (3, '2', Decimal('0')),\n",
       " (4, '3', Decimal('0')),\n",
       " (5, '4', Decimal('0')),\n",
       " (6, '5', Decimal('0')),\n",
       " (7, '6', Decimal('0')),\n",
       " (8, '7', Decimal('0')),\n",
       " (9, '8', Decimal('0')),\n",
       " (10, '9', Decimal('0')),\n",
       " (11, '10', Decimal('0')),\n",
       " (12, '11', Decimal('0')),\n",
       " (13, '12', Decimal('0')),\n",
       " (14, '13', Decimal('0')),\n",
       " (15, '14', Decimal('0')),\n",
       " (16, '15', Decimal('0')),\n",
       " (17, '16', Decimal('0')),\n",
       " (18, '17', Decimal('0')),\n",
       " (19, '18', Decimal('0')),\n",
       " (20, '19', Decimal('0')),\n",
       " (21, '20', Decimal('0')),\n",
       " (22, '21', Decimal('0')),\n",
       " (23, '22', Decimal('0')),\n",
       " (24, '23', Decimal('0')),\n",
       " (25, '24', Decimal('0')),\n",
       " (26, '25', Decimal('0')),\n",
       " (27, '26', Decimal('0')),\n",
       " (28, '27', Decimal('0')),\n",
       " (29, '28', Decimal('0')),\n",
       " (30, '29', Decimal('0')),\n",
       " (31, '30', Decimal('0')))"
      ]
     },
     "execution_count": 63,
     "metadata": {},
     "output_type": "execute_result"
    }
   ],
   "source": [
    "sql = '''select * from toystable'''\n",
    "cursor.execute(sql)\n",
    "cursor.fetchall()"
   ]
  },
  {
   "cell_type": "code",
   "execution_count": 50,
   "id": "408ca614",
   "metadata": {},
   "outputs": [],
   "source": [
    "import boto3\n",
    "import pandas as pd\n",
    "import s3fs"
   ]
  },
  {
   "cell_type": "code",
   "execution_count": 51,
   "id": "e3d9e039",
   "metadata": {},
   "outputs": [
    {
     "data": {
      "text/html": [
       "<div>\n",
       "<style scoped>\n",
       "    .dataframe tbody tr th:only-of-type {\n",
       "        vertical-align: middle;\n",
       "    }\n",
       "\n",
       "    .dataframe tbody tr th {\n",
       "        vertical-align: top;\n",
       "    }\n",
       "\n",
       "    .dataframe thead th {\n",
       "        text-align: right;\n",
       "    }\n",
       "</style>\n",
       "<table border=\"1\" class=\"dataframe\">\n",
       "  <thead>\n",
       "    <tr style=\"text-align: right;\">\n",
       "      <th></th>\n",
       "      <th>Title</th>\n",
       "      <th>Image</th>\n",
       "      <th>adeclarative</th>\n",
       "      <th>alinknormal_URL</th>\n",
       "      <th>asizebase</th>\n",
       "      <th>aoffscreen</th>\n",
       "      <th>Price</th>\n",
       "      <th>Price1</th>\n",
       "      <th>asizebase2</th>\n",
       "      <th>arow</th>\n",
       "      <th>Like</th>\n",
       "      <th>scouponunclipped__spancontains_class_acolorbase</th>\n",
       "      <th>arow3</th>\n",
       "      <th>acolorbase</th>\n",
       "    </tr>\n",
       "  </thead>\n",
       "  <tbody>\n",
       "    <tr>\n",
       "      <th>0</th>\n",
       "      <td>NaN</td>\n",
       "      <td>NaN</td>\n",
       "      <td>Sponsored\\n</td>\n",
       "      <td>NaN</td>\n",
       "      <td>NaN</td>\n",
       "      <td>Shop Fun Creative Gifts for Boys of All Ages</td>\n",
       "      <td>NaN</td>\n",
       "      <td>NaN</td>\n",
       "      <td>NaN</td>\n",
       "      <td>NaN</td>\n",
       "      <td>NaN</td>\n",
       "      <td>NaN</td>\n",
       "      <td>NaN</td>\n",
       "      <td>NaN</td>\n",
       "    </tr>\n",
       "    <tr>\n",
       "      <th>1</th>\n",
       "      <td>Cats vs Pickles - Limited Edition Holiday 12pk...</td>\n",
       "      <td>https://m.media-amazon.com/images/I/51n8ENJFUW...</td>\n",
       "      <td>4.7 out of 5 stars</td>\n",
       "      <td>https://www.amazon.com/gp/slredirect/picassoRe...</td>\n",
       "      <td>282</td>\n",
       "      <td>$54.99</td>\n",
       "      <td>54\\n.</td>\n",
       "      <td>$59.99</td>\n",
       "      <td>NaN</td>\n",
       "      <td>NaN</td>\n",
       "      <td>NaN</td>\n",
       "      <td>NaN</td>\n",
       "      <td>Get it as soon as</td>\n",
       "      <td>Sat, Apr 30</td>\n",
       "    </tr>\n",
       "    <tr>\n",
       "      <th>2</th>\n",
       "      <td>Osmo - Super Studio Disney Frozen 2 - Ages 5-1...</td>\n",
       "      <td>https://m.media-amazon.com/images/I/91SJQup1fq...</td>\n",
       "      <td>4.7 out of 5 stars</td>\n",
       "      <td>https://www.amazon.com/gp/slredirect/picassoRe...</td>\n",
       "      <td>4,333</td>\n",
       "      <td>$29.99</td>\n",
       "      <td>29\\n.</td>\n",
       "      <td>NaN</td>\n",
       "      <td>NaN</td>\n",
       "      <td>NaN</td>\n",
       "      <td>NaN</td>\n",
       "      <td>NaN</td>\n",
       "      <td>Get it as soon as</td>\n",
       "      <td>Sat, Apr 30</td>\n",
       "    </tr>\n",
       "    <tr>\n",
       "      <th>3</th>\n",
       "      <td>Pop it Pink Ombre Cupcake Fidget Toy Girls and...</td>\n",
       "      <td>https://m.media-amazon.com/images/I/81G2b5S-wQ...</td>\n",
       "      <td>5.0 out of 5 stars</td>\n",
       "      <td>https://www.amazon.com/gp/slredirect/picassoRe...</td>\n",
       "      <td>1</td>\n",
       "      <td>$7.99</td>\n",
       "      <td>7\\n.</td>\n",
       "      <td>NaN</td>\n",
       "      <td>NaN</td>\n",
       "      <td>NaN</td>\n",
       "      <td>NaN</td>\n",
       "      <td>NaN</td>\n",
       "      <td>Get it as soon as</td>\n",
       "      <td>Tue, May 3</td>\n",
       "    </tr>\n",
       "    <tr>\n",
       "      <th>4</th>\n",
       "      <td>Jasonwell Splash Pad Sprinkler for Kids 68\" Sp...</td>\n",
       "      <td>https://m.media-amazon.com/images/I/81s0fdVXUu...</td>\n",
       "      <td>4.4 out of 5 stars</td>\n",
       "      <td>https://www.amazon.com/Jasonwell-Sprinkle-Spri...</td>\n",
       "      <td>11,005</td>\n",
       "      <td>$19.99</td>\n",
       "      <td>19\\n.</td>\n",
       "      <td>$38.99</td>\n",
       "      <td>NaN</td>\n",
       "      <td>10% coupon applied at checkoutSave 10%  with c...</td>\n",
       "      <td>Save 10%</td>\n",
       "      <td>with coupon</td>\n",
       "      <td>Get it as soon as</td>\n",
       "      <td>Sat, Apr 30</td>\n",
       "    </tr>\n",
       "  </tbody>\n",
       "</table>\n",
       "</div>"
      ],
      "text/plain": [
       "                                               Title  \\\n",
       "0                                                NaN   \n",
       "1  Cats vs Pickles - Limited Edition Holiday 12pk...   \n",
       "2  Osmo - Super Studio Disney Frozen 2 - Ages 5-1...   \n",
       "3  Pop it Pink Ombre Cupcake Fidget Toy Girls and...   \n",
       "4  Jasonwell Splash Pad Sprinkler for Kids 68\" Sp...   \n",
       "\n",
       "                                               Image          adeclarative  \\\n",
       "0                                                NaN   Sponsored\\n           \n",
       "1  https://m.media-amazon.com/images/I/51n8ENJFUW...    4.7 out of 5 stars   \n",
       "2  https://m.media-amazon.com/images/I/91SJQup1fq...    4.7 out of 5 stars   \n",
       "3  https://m.media-amazon.com/images/I/81G2b5S-wQ...    5.0 out of 5 stars   \n",
       "4  https://m.media-amazon.com/images/I/81s0fdVXUu...    4.4 out of 5 stars   \n",
       "\n",
       "                                     alinknormal_URL asizebase  \\\n",
       "0                                                NaN       NaN   \n",
       "1  https://www.amazon.com/gp/slredirect/picassoRe...       282   \n",
       "2  https://www.amazon.com/gp/slredirect/picassoRe...     4,333   \n",
       "3  https://www.amazon.com/gp/slredirect/picassoRe...         1   \n",
       "4  https://www.amazon.com/Jasonwell-Sprinkle-Spri...    11,005   \n",
       "\n",
       "                                     aoffscreen  Price   Price1 asizebase2  \\\n",
       "0  Shop Fun Creative Gifts for Boys of All Ages    NaN      NaN        NaN   \n",
       "1                                       $54.99   54\\n.  $59.99         NaN   \n",
       "2                                       $29.99   29\\n.      NaN        NaN   \n",
       "3                                        $7.99    7\\n.      NaN        NaN   \n",
       "4                                       $19.99   19\\n.  $38.99         NaN   \n",
       "\n",
       "                                                arow      Like  \\\n",
       "0                                                NaN       NaN   \n",
       "1                                                NaN       NaN   \n",
       "2                                                NaN       NaN   \n",
       "3                                                NaN       NaN   \n",
       "4  10% coupon applied at checkoutSave 10%  with c...  Save 10%   \n",
       "\n",
       "  scouponunclipped__spancontains_class_acolorbase               arow3  \\\n",
       "0                                             NaN                 NaN   \n",
       "1                                             NaN  Get it as soon as    \n",
       "2                                             NaN  Get it as soon as    \n",
       "3                                             NaN  Get it as soon as    \n",
       "4                                     with coupon  Get it as soon as    \n",
       "\n",
       "    acolorbase  \n",
       "0          NaN  \n",
       "1  Sat, Apr 30  \n",
       "2  Sat, Apr 30  \n",
       "3   Tue, May 3  \n",
       "4  Sat, Apr 30  "
      ]
     },
     "execution_count": 51,
     "metadata": {},
     "output_type": "execute_result"
    }
   ],
   "source": [
    "\n",
    "path1='s3://productscsv/toys_rating4.csv'\n",
    "df_toys=pd.read_csv(path1)\n",
    "df_toys.head()"
   ]
  },
  {
   "cell_type": "code",
   "execution_count": 52,
   "id": "32a2524e",
   "metadata": {},
   "outputs": [],
   "source": [
    "new_toy4=df_toys[['Title','adeclarative','alinknormal_URL','asizebase','aoffscreen','Price1','arow']]"
   ]
  },
  {
   "cell_type": "code",
   "execution_count": 53,
   "id": "b875cafb",
   "metadata": {},
   "outputs": [
    {
     "data": {
      "text/html": [
       "<div>\n",
       "<style scoped>\n",
       "    .dataframe tbody tr th:only-of-type {\n",
       "        vertical-align: middle;\n",
       "    }\n",
       "\n",
       "    .dataframe tbody tr th {\n",
       "        vertical-align: top;\n",
       "    }\n",
       "\n",
       "    .dataframe thead th {\n",
       "        text-align: right;\n",
       "    }\n",
       "</style>\n",
       "<table border=\"1\" class=\"dataframe\">\n",
       "  <thead>\n",
       "    <tr style=\"text-align: right;\">\n",
       "      <th></th>\n",
       "      <th>Title</th>\n",
       "      <th>adeclarative</th>\n",
       "      <th>alinknormal_URL</th>\n",
       "      <th>asizebase</th>\n",
       "      <th>aoffscreen</th>\n",
       "      <th>Price1</th>\n",
       "      <th>arow</th>\n",
       "    </tr>\n",
       "  </thead>\n",
       "  <tbody>\n",
       "    <tr>\n",
       "      <th>1</th>\n",
       "      <td>Cats vs Pickles - Limited Edition Holiday 12pk...</td>\n",
       "      <td>4.7 out of 5 stars</td>\n",
       "      <td>https://www.amazon.com/gp/slredirect/picassoRe...</td>\n",
       "      <td>282</td>\n",
       "      <td>$54.99</td>\n",
       "      <td>$59.99</td>\n",
       "      <td>NaN</td>\n",
       "    </tr>\n",
       "    <tr>\n",
       "      <th>2</th>\n",
       "      <td>Osmo - Super Studio Disney Frozen 2 - Ages 5-1...</td>\n",
       "      <td>4.7 out of 5 stars</td>\n",
       "      <td>https://www.amazon.com/gp/slredirect/picassoRe...</td>\n",
       "      <td>4,333</td>\n",
       "      <td>$29.99</td>\n",
       "      <td>NaN</td>\n",
       "      <td>NaN</td>\n",
       "    </tr>\n",
       "    <tr>\n",
       "      <th>3</th>\n",
       "      <td>Pop it Pink Ombre Cupcake Fidget Toy Girls and...</td>\n",
       "      <td>5.0 out of 5 stars</td>\n",
       "      <td>https://www.amazon.com/gp/slredirect/picassoRe...</td>\n",
       "      <td>1</td>\n",
       "      <td>$7.99</td>\n",
       "      <td>NaN</td>\n",
       "      <td>NaN</td>\n",
       "    </tr>\n",
       "    <tr>\n",
       "      <th>4</th>\n",
       "      <td>Jasonwell Splash Pad Sprinkler for Kids 68\" Sp...</td>\n",
       "      <td>4.4 out of 5 stars</td>\n",
       "      <td>https://www.amazon.com/Jasonwell-Sprinkle-Spri...</td>\n",
       "      <td>11,005</td>\n",
       "      <td>$19.99</td>\n",
       "      <td>$38.99</td>\n",
       "      <td>10% coupon applied at checkoutSave 10%  with c...</td>\n",
       "    </tr>\n",
       "    <tr>\n",
       "      <th>5</th>\n",
       "      <td>Magnetic Tiles Toys for 3 4 5 6 7 8+ Year Old ...</td>\n",
       "      <td>4.6 out of 5 stars</td>\n",
       "      <td>https://www.amazon.com/Magnetic-Building-Creat...</td>\n",
       "      <td>1,991</td>\n",
       "      <td>$25.97</td>\n",
       "      <td>$35.99</td>\n",
       "      <td>20% coupon applied at checkoutSave 20%  with c...</td>\n",
       "    </tr>\n",
       "  </tbody>\n",
       "</table>\n",
       "</div>"
      ],
      "text/plain": [
       "                                               Title        adeclarative  \\\n",
       "1  Cats vs Pickles - Limited Edition Holiday 12pk...  4.7 out of 5 stars   \n",
       "2  Osmo - Super Studio Disney Frozen 2 - Ages 5-1...  4.7 out of 5 stars   \n",
       "3  Pop it Pink Ombre Cupcake Fidget Toy Girls and...  5.0 out of 5 stars   \n",
       "4  Jasonwell Splash Pad Sprinkler for Kids 68\" Sp...  4.4 out of 5 stars   \n",
       "5  Magnetic Tiles Toys for 3 4 5 6 7 8+ Year Old ...  4.6 out of 5 stars   \n",
       "\n",
       "                                     alinknormal_URL asizebase aoffscreen  \\\n",
       "1  https://www.amazon.com/gp/slredirect/picassoRe...       282    $54.99    \n",
       "2  https://www.amazon.com/gp/slredirect/picassoRe...     4,333    $29.99    \n",
       "3  https://www.amazon.com/gp/slredirect/picassoRe...         1     $7.99    \n",
       "4  https://www.amazon.com/Jasonwell-Sprinkle-Spri...    11,005    $19.99    \n",
       "5  https://www.amazon.com/Magnetic-Building-Creat...     1,991    $25.97    \n",
       "\n",
       "    Price1                                               arow  \n",
       "1  $59.99                                                 NaN  \n",
       "2      NaN                                                NaN  \n",
       "3      NaN                                                NaN  \n",
       "4  $38.99   10% coupon applied at checkoutSave 10%  with c...  \n",
       "5  $35.99   20% coupon applied at checkoutSave 20%  with c...  "
      ]
     },
     "execution_count": 53,
     "metadata": {},
     "output_type": "execute_result"
    }
   ],
   "source": [
    "df_toy4_2=new_toy4[~new_toy4.adeclarative.str.contains(\"Sponsored\\n\",na=False)]\n",
    "df_toy4_2.head()"
   ]
  },
  {
   "cell_type": "code",
   "execution_count": 54,
   "id": "83f9ea33",
   "metadata": {},
   "outputs": [],
   "source": [
    "new_df=df_toy4_2.rename(\n",
    "        columns={\n",
    "            'adeclarative':'Rating',\n",
    "            'alinknormal_URL':'ProdLink',\n",
    "            'asizebase':'TotalReviews',\n",
    "            'aoffscreen':'Price',\n",
    "            'Price1':'OrgPrice',\n",
    "            'arow':'Coupons'\n",
    "               \n",
    "        })"
   ]
  },
  {
   "cell_type": "code",
   "execution_count": 55,
   "id": "824d9c65",
   "metadata": {},
   "outputs": [
    {
     "data": {
      "text/html": [
       "<div>\n",
       "<style scoped>\n",
       "    .dataframe tbody tr th:only-of-type {\n",
       "        vertical-align: middle;\n",
       "    }\n",
       "\n",
       "    .dataframe tbody tr th {\n",
       "        vertical-align: top;\n",
       "    }\n",
       "\n",
       "    .dataframe thead th {\n",
       "        text-align: right;\n",
       "    }\n",
       "</style>\n",
       "<table border=\"1\" class=\"dataframe\">\n",
       "  <thead>\n",
       "    <tr style=\"text-align: right;\">\n",
       "      <th></th>\n",
       "      <th>Title</th>\n",
       "      <th>Rating</th>\n",
       "      <th>ProdLink</th>\n",
       "      <th>TotalReviews</th>\n",
       "      <th>Price</th>\n",
       "      <th>OrgPrice</th>\n",
       "      <th>Coupons</th>\n",
       "    </tr>\n",
       "  </thead>\n",
       "  <tbody>\n",
       "    <tr>\n",
       "      <th>1</th>\n",
       "      <td>Cats vs Pickles - Limited Edition Holiday 12pk...</td>\n",
       "      <td>4.7 out of 5 stars</td>\n",
       "      <td>https://www.amazon.com/gp/slredirect/picassoRe...</td>\n",
       "      <td>282</td>\n",
       "      <td>$54.99</td>\n",
       "      <td>$59.99</td>\n",
       "      <td>NaN</td>\n",
       "    </tr>\n",
       "    <tr>\n",
       "      <th>2</th>\n",
       "      <td>Osmo - Super Studio Disney Frozen 2 - Ages 5-1...</td>\n",
       "      <td>4.7 out of 5 stars</td>\n",
       "      <td>https://www.amazon.com/gp/slredirect/picassoRe...</td>\n",
       "      <td>4,333</td>\n",
       "      <td>$29.99</td>\n",
       "      <td>NaN</td>\n",
       "      <td>NaN</td>\n",
       "    </tr>\n",
       "    <tr>\n",
       "      <th>3</th>\n",
       "      <td>Pop it Pink Ombre Cupcake Fidget Toy Girls and...</td>\n",
       "      <td>5.0 out of 5 stars</td>\n",
       "      <td>https://www.amazon.com/gp/slredirect/picassoRe...</td>\n",
       "      <td>1</td>\n",
       "      <td>$7.99</td>\n",
       "      <td>NaN</td>\n",
       "      <td>NaN</td>\n",
       "    </tr>\n",
       "    <tr>\n",
       "      <th>4</th>\n",
       "      <td>Jasonwell Splash Pad Sprinkler for Kids 68\" Sp...</td>\n",
       "      <td>4.4 out of 5 stars</td>\n",
       "      <td>https://www.amazon.com/Jasonwell-Sprinkle-Spri...</td>\n",
       "      <td>11,005</td>\n",
       "      <td>$19.99</td>\n",
       "      <td>$38.99</td>\n",
       "      <td>10% coupon applied at checkoutSave 10%  with c...</td>\n",
       "    </tr>\n",
       "    <tr>\n",
       "      <th>5</th>\n",
       "      <td>Magnetic Tiles Toys for 3 4 5 6 7 8+ Year Old ...</td>\n",
       "      <td>4.6 out of 5 stars</td>\n",
       "      <td>https://www.amazon.com/Magnetic-Building-Creat...</td>\n",
       "      <td>1,991</td>\n",
       "      <td>$25.97</td>\n",
       "      <td>$35.99</td>\n",
       "      <td>20% coupon applied at checkoutSave 20%  with c...</td>\n",
       "    </tr>\n",
       "    <tr>\n",
       "      <th>...</th>\n",
       "      <td>...</td>\n",
       "      <td>...</td>\n",
       "      <td>...</td>\n",
       "      <td>...</td>\n",
       "      <td>...</td>\n",
       "      <td>...</td>\n",
       "      <td>...</td>\n",
       "    </tr>\n",
       "    <tr>\n",
       "      <th>171</th>\n",
       "      <td>LEGO Speed Champions Aston Martin Valkyrie AMR...</td>\n",
       "      <td>4.8 out of 5 stars</td>\n",
       "      <td>https://www.amazon.com/gp/slredirect/picassoRe...</td>\n",
       "      <td>65</td>\n",
       "      <td>$39.97</td>\n",
       "      <td>NaN</td>\n",
       "      <td>NaN</td>\n",
       "    </tr>\n",
       "    <tr>\n",
       "      <th>172</th>\n",
       "      <td>Dinosaur Toy Truck for Kids 3-7 with Flash Lig...</td>\n",
       "      <td>4.5 out of 5 stars</td>\n",
       "      <td>https://www.amazon.com/gp/slredirect/picassoRe...</td>\n",
       "      <td>78</td>\n",
       "      <td>$24.99</td>\n",
       "      <td>NaN</td>\n",
       "      <td>NaN</td>\n",
       "    </tr>\n",
       "    <tr>\n",
       "      <th>173</th>\n",
       "      <td>Paw Patrol Marshall - Robotic Build-A-Bot Paw ...</td>\n",
       "      <td>4.1 out of 5 stars</td>\n",
       "      <td>https://www.amazon.com/gp/slredirect/picassoRe...</td>\n",
       "      <td>2,163</td>\n",
       "      <td>$34.99</td>\n",
       "      <td>NaN</td>\n",
       "      <td>NaN</td>\n",
       "    </tr>\n",
       "    <tr>\n",
       "      <th>174</th>\n",
       "      <td>NaN</td>\n",
       "      <td>NaN</td>\n",
       "      <td>NaN</td>\n",
       "      <td>NaN</td>\n",
       "      <td>NaN</td>\n",
       "      <td>NaN</td>\n",
       "      <td>NaN</td>\n",
       "    </tr>\n",
       "    <tr>\n",
       "      <th>176</th>\n",
       "      <td>NaN</td>\n",
       "      <td>NaN</td>\n",
       "      <td>NaN</td>\n",
       "      <td>NaN</td>\n",
       "      <td>NaN</td>\n",
       "      <td>NaN</td>\n",
       "      <td>NaN</td>\n",
       "    </tr>\n",
       "  </tbody>\n",
       "</table>\n",
       "<p>167 rows × 7 columns</p>\n",
       "</div>"
      ],
      "text/plain": [
       "                                                 Title              Rating  \\\n",
       "1    Cats vs Pickles - Limited Edition Holiday 12pk...  4.7 out of 5 stars   \n",
       "2    Osmo - Super Studio Disney Frozen 2 - Ages 5-1...  4.7 out of 5 stars   \n",
       "3    Pop it Pink Ombre Cupcake Fidget Toy Girls and...  5.0 out of 5 stars   \n",
       "4    Jasonwell Splash Pad Sprinkler for Kids 68\" Sp...  4.4 out of 5 stars   \n",
       "5    Magnetic Tiles Toys for 3 4 5 6 7 8+ Year Old ...  4.6 out of 5 stars   \n",
       "..                                                 ...                 ...   \n",
       "171  LEGO Speed Champions Aston Martin Valkyrie AMR...  4.8 out of 5 stars   \n",
       "172  Dinosaur Toy Truck for Kids 3-7 with Flash Lig...  4.5 out of 5 stars   \n",
       "173  Paw Patrol Marshall - Robotic Build-A-Bot Paw ...  4.1 out of 5 stars   \n",
       "174                                                NaN                 NaN   \n",
       "176                                                NaN                 NaN   \n",
       "\n",
       "                                              ProdLink TotalReviews    Price  \\\n",
       "1    https://www.amazon.com/gp/slredirect/picassoRe...          282  $54.99    \n",
       "2    https://www.amazon.com/gp/slredirect/picassoRe...        4,333  $29.99    \n",
       "3    https://www.amazon.com/gp/slredirect/picassoRe...            1   $7.99    \n",
       "4    https://www.amazon.com/Jasonwell-Sprinkle-Spri...       11,005  $19.99    \n",
       "5    https://www.amazon.com/Magnetic-Building-Creat...        1,991  $25.97    \n",
       "..                                                 ...          ...      ...   \n",
       "171  https://www.amazon.com/gp/slredirect/picassoRe...           65  $39.97    \n",
       "172  https://www.amazon.com/gp/slredirect/picassoRe...           78  $24.99    \n",
       "173  https://www.amazon.com/gp/slredirect/picassoRe...        2,163  $34.99    \n",
       "174                                                NaN          NaN      NaN   \n",
       "176                                                NaN          NaN      NaN   \n",
       "\n",
       "    OrgPrice                                            Coupons  \n",
       "1    $59.99                                                 NaN  \n",
       "2        NaN                                                NaN  \n",
       "3        NaN                                                NaN  \n",
       "4    $38.99   10% coupon applied at checkoutSave 10%  with c...  \n",
       "5    $35.99   20% coupon applied at checkoutSave 20%  with c...  \n",
       "..       ...                                                ...  \n",
       "171      NaN                                                NaN  \n",
       "172      NaN                                                NaN  \n",
       "173      NaN                                                NaN  \n",
       "174      NaN                                                NaN  \n",
       "176      NaN                                                NaN  \n",
       "\n",
       "[167 rows x 7 columns]"
      ]
     },
     "execution_count": 55,
     "metadata": {},
     "output_type": "execute_result"
    }
   ],
   "source": [
    "new_df"
   ]
  },
  {
   "cell_type": "code",
   "execution_count": 56,
   "id": "30e18583",
   "metadata": {},
   "outputs": [
    {
     "data": {
      "text/plain": [
       "Index(['Title', 'Rating', 'ProdLink', 'TotalReviews', 'Price', 'OrgPrice',\n",
       "       'Coupons'],\n",
       "      dtype='object')"
      ]
     },
     "execution_count": 56,
     "metadata": {},
     "output_type": "execute_result"
    }
   ],
   "source": [
    "new_df.columns"
   ]
  },
  {
   "cell_type": "code",
   "execution_count": 67,
   "id": "2906a41f",
   "metadata": {},
   "outputs": [],
   "source": [
    "#for Title,Price in new_df.iterrows():\n",
    "sql = '''use amzdb'''\n",
    "cursor.execute(sql)\n",
    "title = new_df.iat[0,0]\n",
    "title\n",
    "price = 19.4\n",
    "sql = '''insert into toystable(Title, Price) values('%s', '%s')''' % (title, price)\n",
    "cursor.execute(sql)\n",
    "cursor.connection.commit()"
   ]
  },
  {
   "cell_type": "code",
   "execution_count": 68,
   "id": "d4448426",
   "metadata": {},
   "outputs": [
    {
     "data": {
      "text/plain": [
       "((1, 'toy1', Decimal('100')),\n",
       " (2, '1', Decimal('0')),\n",
       " (3, '2', Decimal('0')),\n",
       " (4, '3', Decimal('0')),\n",
       " (5, '4', Decimal('0')),\n",
       " (6, '5', Decimal('0')),\n",
       " (7, '6', Decimal('0')),\n",
       " (8, '7', Decimal('0')),\n",
       " (9, '8', Decimal('0')),\n",
       " (10, '9', Decimal('0')),\n",
       " (11, '10', Decimal('0')),\n",
       " (12, '11', Decimal('0')),\n",
       " (13, '12', Decimal('0')),\n",
       " (14, '13', Decimal('0')),\n",
       " (15, '14', Decimal('0')),\n",
       " (16, '15', Decimal('0')),\n",
       " (17, '16', Decimal('0')),\n",
       " (18, '17', Decimal('0')),\n",
       " (19, '18', Decimal('0')),\n",
       " (20, '19', Decimal('0')),\n",
       " (21, '20', Decimal('0')),\n",
       " (22, '21', Decimal('0')),\n",
       " (23, '22', Decimal('0')),\n",
       " (24, '23', Decimal('0')),\n",
       " (25, '24', Decimal('0')),\n",
       " (26, '25', Decimal('0')),\n",
       " (27, '26', Decimal('0')),\n",
       " (28, '27', Decimal('0')),\n",
       " (29, '28', Decimal('0')),\n",
       " (30, '29', Decimal('0')),\n",
       " (31, '30', Decimal('0')),\n",
       " (32, '4.7 out of 5 stars', Decimal('19')),\n",
       " (33,\n",
       "  'Cats vs Pickles - Limited Edition Holiday 12pk - 4\" Cute Cuddly Collectible Bean Plush Toy - Great for White Elephant, Gift Exchanges & $10 Gifts.',\n",
       "  Decimal('19')))"
      ]
     },
     "execution_count": 68,
     "metadata": {},
     "output_type": "execute_result"
    }
   ],
   "source": [
    "sql = '''select * from toystable'''\n",
    "cursor.execute(sql)\n",
    "cursor.fetchall()"
   ]
  },
  {
   "cell_type": "code",
   "execution_count": null,
   "id": "5b123482",
   "metadata": {},
   "outputs": [],
   "source": []
  }
 ],
 "metadata": {
  "kernelspec": {
   "display_name": "Python 3 (ipykernel)",
   "language": "python",
   "name": "python3"
  },
  "language_info": {
   "codemirror_mode": {
    "name": "ipython",
    "version": 3
   },
   "file_extension": ".py",
   "mimetype": "text/x-python",
   "name": "python",
   "nbconvert_exporter": "python",
   "pygments_lexer": "ipython3",
   "version": "3.9.12"
  }
 },
 "nbformat": 4,
 "nbformat_minor": 5
}
