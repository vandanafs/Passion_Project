{
 "cells": [
  {
   "cell_type": "code",
   "execution_count": null,
   "id": "e51ddb0b",
   "metadata": {},
   "outputs": [],
   "source": [
    "#!pip3 uninstall pymysql\n",
    "\n"
   ]
  },
  {
   "cell_type": "code",
   "execution_count": null,
   "id": "9b4b1777",
   "metadata": {},
   "outputs": [],
   "source": [
    "!pip3 install pymysql==0.9.3"
   ]
  },
  {
   "cell_type": "code",
   "execution_count": null,
   "id": "70c46a3b",
   "metadata": {},
   "outputs": [],
   "source": [
    "import pymysql"
   ]
  },
  {
   "cell_type": "code",
   "execution_count": null,
   "id": "1bb20c61",
   "metadata": {},
   "outputs": [],
   "source": []
  },
  {
   "cell_type": "markdown",
   "id": "62c4f45f",
   "metadata": {},
   "source": [
    "# Connect to AWS RDS "
   ]
  },
  {
   "cell_type": "code",
   "execution_count": null,
   "id": "51771cff",
   "metadata": {},
   "outputs": [],
   "source": [
    "connection = pymysql.connect( 'database-1.cbrnhoat32p7.us-east-1.rds.amazonaws.com', 'myuser', 'myPass05')\n",
    "cursor = connection.cursor()\n",
    "print(cursor)"
   ]
  },
  {
   "cell_type": "code",
   "execution_count": null,
   "id": "5a81f6b9",
   "metadata": {},
   "outputs": [],
   "source": [
    "cursor.execute(\"select version()\")\n"
   ]
  },
  {
   "cell_type": "code",
   "execution_count": null,
   "id": "4f3bcd33",
   "metadata": {},
   "outputs": [],
   "source": [
    "data = cursor.fetchone()"
   ]
  },
  {
   "cell_type": "code",
   "execution_count": null,
   "id": "1c9a5708",
   "metadata": {},
   "outputs": [],
   "source": [
    "data"
   ]
  },
  {
   "cell_type": "code",
   "execution_count": null,
   "id": "76838277",
   "metadata": {},
   "outputs": [],
   "source": [
    "sql = '''select database collections'''"
   ]
  },
  {
   "cell_type": "code",
   "execution_count": null,
   "id": "383c9ed8",
   "metadata": {},
   "outputs": [],
   "source": [
    "cursor.connection.commit()"
   ]
  },
  {
   "cell_type": "code",
   "execution_count": null,
   "id": "19689fe0",
   "metadata": {},
   "outputs": [],
   "source": [
    "sql = '''use collections'''  # use the db\n",
    "cursor.execute(sql)"
   ]
  },
  {
   "cell_type": "code",
   "execution_count": null,
   "id": "2f05dff8",
   "metadata": {},
   "outputs": [],
   "source": [
    "#show the tables in RDs\n",
    "sql = '''\n",
    "show tables\n",
    "'''\n",
    "cursor.execute(sql)\n"
   ]
  },
  {
   "cell_type": "code",
   "execution_count": null,
   "id": "6451f402",
   "metadata": {},
   "outputs": [],
   "source": [
    "cursor.fetchall()"
   ]
  },
  {
   "cell_type": "code",
   "execution_count": null,
   "id": "240ee6b5",
   "metadata": {},
   "outputs": [],
   "source": [
    "sql = '''select * from items'''\n",
    "cursor.execute(sql)\n",
    "cursor.connection.commit()"
   ]
  },
  {
   "cell_type": "code",
   "execution_count": null,
   "id": "2412001b",
   "metadata": {},
   "outputs": [],
   "source": []
  },
  {
   "cell_type": "code",
   "execution_count": null,
   "id": "916d0108",
   "metadata": {},
   "outputs": [],
   "source": []
  }
 ],
 "metadata": {
  "kernelspec": {
   "display_name": "Python 3 (ipykernel)",
   "language": "python",
   "name": "python3"
  },
  "language_info": {
   "codemirror_mode": {
    "name": "ipython",
    "version": 3
   },
   "file_extension": ".py",
   "mimetype": "text/x-python",
   "name": "python",
   "nbconvert_exporter": "python",
   "pygments_lexer": "ipython3",
   "version": "3.9.12"
  }
 },
 "nbformat": 4,
 "nbformat_minor": 5
}
